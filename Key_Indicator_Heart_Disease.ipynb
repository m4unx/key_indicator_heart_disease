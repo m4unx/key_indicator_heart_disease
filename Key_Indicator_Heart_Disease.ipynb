{
  "nbformat": 4,
  "nbformat_minor": 0,
  "metadata": {
    "colab": {
      "name": "Key Indicator Heart Disease.ipynb",
      "provenance": []
    },
    "kernelspec": {
      "name": "python3",
      "display_name": "Python 3"
    },
    "language_info": {
      "name": "python"
    }
  },
  "cells": [
    {
      "cell_type": "code",
      "execution_count": 2,
      "metadata": {
        "id": "kaKj5QOe6-ol"
      },
      "outputs": [],
      "source": [
        "!pip install -q kaggle"
      ]
    },
    {
      "cell_type": "code",
      "source": [
        "from google.colab import files\n",
        "files.upload()"
      ],
      "metadata": {
        "colab": {
          "resources": {
            "http://localhost:8080/nbextensions/google.colab/files.js": {
              "data": "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",
              "ok": true,
              "headers": [
                [
                  "content-type",
                  "application/javascript"
                ]
              ],
              "status": 200,
              "status_text": ""
            }
          },
          "base_uri": "https://localhost:8080/",
          "height": 90
        },
        "id": "WJXNkHh07Nwy",
        "outputId": "cee8fad7-9cb4-4081-fc9a-6615b198dcc8"
      },
      "execution_count": 3,
      "outputs": [
        {
          "output_type": "display_data",
          "data": {
            "text/html": [
              "\n",
              "     <input type=\"file\" id=\"files-9b1f97ef-54fc-4483-bf28-5323bd131923\" name=\"files[]\" multiple disabled\n",
              "        style=\"border:none\" />\n",
              "     <output id=\"result-9b1f97ef-54fc-4483-bf28-5323bd131923\">\n",
              "      Upload widget is only available when the cell has been executed in the\n",
              "      current browser session. Please rerun this cell to enable.\n",
              "      </output>\n",
              "      <script src=\"/nbextensions/google.colab/files.js\"></script> "
            ],
            "text/plain": [
              "<IPython.core.display.HTML object>"
            ]
          },
          "metadata": {}
        },
        {
          "output_type": "stream",
          "name": "stdout",
          "text": [
            "Saving kaggle.json to kaggle.json\n"
          ]
        },
        {
          "output_type": "execute_result",
          "data": {
            "text/plain": [
              "{'kaggle.json': b'{\"username\":\"hafizothman\",\"key\":\"62dc749cf0150662d785e7893d555be6\"}'}"
            ]
          },
          "metadata": {},
          "execution_count": 3
        }
      ]
    },
    {
      "cell_type": "code",
      "source": [
        "! mkdir ~/.kaggle\n",
        "! cp kaggle.json ~/.kaggle/\n",
        "! chmod 600 ~/.kaggle/kaggle.json"
      ],
      "metadata": {
        "id": "DuPDwMQs7SyC"
      },
      "execution_count": 4,
      "outputs": []
    },
    {
      "cell_type": "code",
      "source": [
        "! kaggle datasets list"
      ],
      "metadata": {
        "colab": {
          "base_uri": "https://localhost:8080/"
        },
        "id": "JhSZDRAZ7ea5",
        "outputId": "cb670ca6-e30a-4dd7-b86d-43d4139e1f89"
      },
      "execution_count": 5,
      "outputs": [
        {
          "output_type": "stream",
          "name": "stdout",
          "text": [
            "Warning: Looks like you're using an outdated API Version, please consider updating (server 1.5.12 / client 1.5.4)\n",
            "ref                                                              title                                               size  lastUpdated          downloadCount  \n",
            "---------------------------------------------------------------  -------------------------------------------------  -----  -------------------  -------------  \n",
            "yasserh/wine-quality-dataset                                     Wine Quality Dataset                                21KB  2022-01-15 19:15:11           7412  \n",
            "mkoklu42/pistachio-dataset                                       Pistachio Dataset                                    2MB  2022-02-11 21:06:50             39  \n",
            "prasertk/netflix-subscription-price-in-different-countries       Netflix subscription fee in different countries      3KB  2022-01-15 07:06:09           5693  \n",
            "mkoklu42/durum-wheat-dataset                                     Durum Wheat Dataset                                983MB  2022-02-18 09:34:17             10  \n",
            "majyhain/height-of-male-and-female-by-country-2022               Height of Male and Female by Country 2022            4KB  2022-02-02 00:40:19           2873  \n",
            "ashishjangra27/ted-talks                                         TED Talks                                          298KB  2022-02-23 15:16:08            449  \n",
            "jainilcoder/netflix-stock-price-prediction                       Netflix Stock Price Prediction                      21KB  2022-02-05 05:06:10           1087  \n",
            "shivavashishtha/shark-tank-india-dataset                         Shark Tank India Dataset                             4KB  2022-02-24 12:57:31            344  \n",
            "mkoklu42/pumpkin-seeds-dataset                                   Pumpkin Seeds Dataset                              393KB  2022-02-08 15:54:27            225  \n",
            "sanjeetsinghnaik/top-1000-highest-grossing-movies                Top 1000 Highest Grossing Movies                   106KB  2022-01-15 16:26:14           3760  \n",
            "mkoklu42/acoustic-extinguisher-fire-dataset                      Acoustic Extinguisher Fire Dataset                 620KB  2022-02-09 17:59:52             21  \n",
            "georgesaavedra/covid19-dataset                                   COVID-19 dataset                                     9MB  2022-02-25 19:13:10           2938  \n",
            "soumyadiptadas/products-sales-timeseries-data                    Products sales time-series data                      1KB  2022-02-24 08:21:51            311  \n",
            "prasertk/michelinstar-restaurants                                Michelin \"star\" restaurants                        364KB  2022-02-23 00:28:16            313  \n",
            "soumyadiptadas/students-math-score-for-different-teaching-style  Student's math score for different teaching style    2KB  2022-02-23 12:36:06            376  \n",
            "robikscube/ubiquant-parquet                                      Ubiquant Competition Data in Parquet Format         13GB  2022-01-19 14:18:59           2131  \n",
            "mkoklu42/dry-bean-dataset                                        Dry Bean Dataset                                     2MB  2022-02-08 12:36:26             20  \n",
            "mkoklu42/rice-msc-dataset                                        Rice MSC Dataset                                   102MB  2022-02-08 12:27:51             17  \n",
            "prokaggler/global-mobility-data-during-covid-19                  Global Mobility Data during Covid 19                67MB  2022-02-23 13:37:41            190  \n",
            "datasnaek/youtube-new                                            Trending YouTube Video Statistics                  201MB  2019-06-03 00:56:47         166931  \n"
          ]
        }
      ]
    },
    {
      "cell_type": "code",
      "source": [
        "!kaggle datasets download -d kamilpytlak/personal-key-indicators-of-heart-disease"
      ],
      "metadata": {
        "colab": {
          "base_uri": "https://localhost:8080/"
        },
        "id": "_M1cIxcl7gdj",
        "outputId": "4fd10b72-a5c1-4c3f-9fa3-449ddd1cd9ad"
      },
      "execution_count": 6,
      "outputs": [
        {
          "output_type": "stream",
          "name": "stdout",
          "text": [
            "Downloading personal-key-indicators-of-heart-disease.zip to /content\n",
            "\r  0% 0.00/3.13M [00:00<?, ?B/s]\n",
            "\r100% 3.13M/3.13M [00:00<00:00, 92.5MB/s]\n"
          ]
        }
      ]
    },
    {
      "cell_type": "code",
      "source": [
        "! mkdir keyindicator_heartdiseas"
      ],
      "metadata": {
        "id": "bIcLVr6b7uUr"
      },
      "execution_count": 7,
      "outputs": []
    },
    {
      "cell_type": "code",
      "source": [
        "! unzip personal-key-indicators-of-heart-disease -d keyindicator_heartdiseas"
      ],
      "metadata": {
        "colab": {
          "base_uri": "https://localhost:8080/"
        },
        "id": "s6q5bnAK7504",
        "outputId": "5d0a9ec3-39c7-4899-defa-36bb7f415704"
      },
      "execution_count": 8,
      "outputs": [
        {
          "output_type": "stream",
          "name": "stdout",
          "text": [
            "Archive:  personal-key-indicators-of-heart-disease.zip\n",
            "  inflating: keyindicator_heartdiseas/heart_2020_cleaned.csv  \n"
          ]
        }
      ]
    },
    {
      "cell_type": "code",
      "source": [
        "import pandas as pd\n",
        "import numpy as np"
      ],
      "metadata": {
        "id": "EqJqgAcg8VAL"
      },
      "execution_count": 9,
      "outputs": []
    },
    {
      "cell_type": "code",
      "source": [
        "df = pd.read_csv(\"/content/keyindicator_heartdiseas/heart_2020_cleaned.csv\")"
      ],
      "metadata": {
        "id": "M07O0ZIu8aV3"
      },
      "execution_count": 10,
      "outputs": []
    },
    {
      "cell_type": "code",
      "source": [
        "df.head()"
      ],
      "metadata": {
        "colab": {
          "base_uri": "https://localhost:8080/",
          "height": 206
        },
        "id": "ShJiGyeE8g7M",
        "outputId": "f71ca80c-80c4-428a-bda2-70adf4efe89b"
      },
      "execution_count": 11,
      "outputs": [
        {
          "output_type": "execute_result",
          "data": {
            "text/html": [
              "\n",
              "  <div id=\"df-0e167d82-061b-4c4a-8ddf-314cf25e0b76\">\n",
              "    <div class=\"colab-df-container\">\n",
              "      <div>\n",
              "<style scoped>\n",
              "    .dataframe tbody tr th:only-of-type {\n",
              "        vertical-align: middle;\n",
              "    }\n",
              "\n",
              "    .dataframe tbody tr th {\n",
              "        vertical-align: top;\n",
              "    }\n",
              "\n",
              "    .dataframe thead th {\n",
              "        text-align: right;\n",
              "    }\n",
              "</style>\n",
              "<table border=\"1\" class=\"dataframe\">\n",
              "  <thead>\n",
              "    <tr style=\"text-align: right;\">\n",
              "      <th></th>\n",
              "      <th>HeartDisease</th>\n",
              "      <th>BMI</th>\n",
              "      <th>Smoking</th>\n",
              "      <th>AlcoholDrinking</th>\n",
              "      <th>Stroke</th>\n",
              "      <th>PhysicalHealth</th>\n",
              "      <th>MentalHealth</th>\n",
              "      <th>DiffWalking</th>\n",
              "      <th>Sex</th>\n",
              "      <th>AgeCategory</th>\n",
              "      <th>Race</th>\n",
              "      <th>Diabetic</th>\n",
              "      <th>PhysicalActivity</th>\n",
              "      <th>GenHealth</th>\n",
              "      <th>SleepTime</th>\n",
              "      <th>Asthma</th>\n",
              "      <th>KidneyDisease</th>\n",
              "      <th>SkinCancer</th>\n",
              "    </tr>\n",
              "  </thead>\n",
              "  <tbody>\n",
              "    <tr>\n",
              "      <th>0</th>\n",
              "      <td>No</td>\n",
              "      <td>16.60</td>\n",
              "      <td>Yes</td>\n",
              "      <td>No</td>\n",
              "      <td>No</td>\n",
              "      <td>3.0</td>\n",
              "      <td>30.0</td>\n",
              "      <td>No</td>\n",
              "      <td>Female</td>\n",
              "      <td>55-59</td>\n",
              "      <td>White</td>\n",
              "      <td>Yes</td>\n",
              "      <td>Yes</td>\n",
              "      <td>Very good</td>\n",
              "      <td>5.0</td>\n",
              "      <td>Yes</td>\n",
              "      <td>No</td>\n",
              "      <td>Yes</td>\n",
              "    </tr>\n",
              "    <tr>\n",
              "      <th>1</th>\n",
              "      <td>No</td>\n",
              "      <td>20.34</td>\n",
              "      <td>No</td>\n",
              "      <td>No</td>\n",
              "      <td>Yes</td>\n",
              "      <td>0.0</td>\n",
              "      <td>0.0</td>\n",
              "      <td>No</td>\n",
              "      <td>Female</td>\n",
              "      <td>80 or older</td>\n",
              "      <td>White</td>\n",
              "      <td>No</td>\n",
              "      <td>Yes</td>\n",
              "      <td>Very good</td>\n",
              "      <td>7.0</td>\n",
              "      <td>No</td>\n",
              "      <td>No</td>\n",
              "      <td>No</td>\n",
              "    </tr>\n",
              "    <tr>\n",
              "      <th>2</th>\n",
              "      <td>No</td>\n",
              "      <td>26.58</td>\n",
              "      <td>Yes</td>\n",
              "      <td>No</td>\n",
              "      <td>No</td>\n",
              "      <td>20.0</td>\n",
              "      <td>30.0</td>\n",
              "      <td>No</td>\n",
              "      <td>Male</td>\n",
              "      <td>65-69</td>\n",
              "      <td>White</td>\n",
              "      <td>Yes</td>\n",
              "      <td>Yes</td>\n",
              "      <td>Fair</td>\n",
              "      <td>8.0</td>\n",
              "      <td>Yes</td>\n",
              "      <td>No</td>\n",
              "      <td>No</td>\n",
              "    </tr>\n",
              "    <tr>\n",
              "      <th>3</th>\n",
              "      <td>No</td>\n",
              "      <td>24.21</td>\n",
              "      <td>No</td>\n",
              "      <td>No</td>\n",
              "      <td>No</td>\n",
              "      <td>0.0</td>\n",
              "      <td>0.0</td>\n",
              "      <td>No</td>\n",
              "      <td>Female</td>\n",
              "      <td>75-79</td>\n",
              "      <td>White</td>\n",
              "      <td>No</td>\n",
              "      <td>No</td>\n",
              "      <td>Good</td>\n",
              "      <td>6.0</td>\n",
              "      <td>No</td>\n",
              "      <td>No</td>\n",
              "      <td>Yes</td>\n",
              "    </tr>\n",
              "    <tr>\n",
              "      <th>4</th>\n",
              "      <td>No</td>\n",
              "      <td>23.71</td>\n",
              "      <td>No</td>\n",
              "      <td>No</td>\n",
              "      <td>No</td>\n",
              "      <td>28.0</td>\n",
              "      <td>0.0</td>\n",
              "      <td>Yes</td>\n",
              "      <td>Female</td>\n",
              "      <td>40-44</td>\n",
              "      <td>White</td>\n",
              "      <td>No</td>\n",
              "      <td>Yes</td>\n",
              "      <td>Very good</td>\n",
              "      <td>8.0</td>\n",
              "      <td>No</td>\n",
              "      <td>No</td>\n",
              "      <td>No</td>\n",
              "    </tr>\n",
              "  </tbody>\n",
              "</table>\n",
              "</div>\n",
              "      <button class=\"colab-df-convert\" onclick=\"convertToInteractive('df-0e167d82-061b-4c4a-8ddf-314cf25e0b76')\"\n",
              "              title=\"Convert this dataframe to an interactive table.\"\n",
              "              style=\"display:none;\">\n",
              "        \n",
              "  <svg xmlns=\"http://www.w3.org/2000/svg\" height=\"24px\"viewBox=\"0 0 24 24\"\n",
              "       width=\"24px\">\n",
              "    <path d=\"M0 0h24v24H0V0z\" fill=\"none\"/>\n",
              "    <path d=\"M18.56 5.44l.94 2.06.94-2.06 2.06-.94-2.06-.94-.94-2.06-.94 2.06-2.06.94zm-11 1L8.5 8.5l.94-2.06 2.06-.94-2.06-.94L8.5 2.5l-.94 2.06-2.06.94zm10 10l.94 2.06.94-2.06 2.06-.94-2.06-.94-.94-2.06-.94 2.06-2.06.94z\"/><path d=\"M17.41 7.96l-1.37-1.37c-.4-.4-.92-.59-1.43-.59-.52 0-1.04.2-1.43.59L10.3 9.45l-7.72 7.72c-.78.78-.78 2.05 0 2.83L4 21.41c.39.39.9.59 1.41.59.51 0 1.02-.2 1.41-.59l7.78-7.78 2.81-2.81c.8-.78.8-2.07 0-2.86zM5.41 20L4 18.59l7.72-7.72 1.47 1.35L5.41 20z\"/>\n",
              "  </svg>\n",
              "      </button>\n",
              "      \n",
              "  <style>\n",
              "    .colab-df-container {\n",
              "      display:flex;\n",
              "      flex-wrap:wrap;\n",
              "      gap: 12px;\n",
              "    }\n",
              "\n",
              "    .colab-df-convert {\n",
              "      background-color: #E8F0FE;\n",
              "      border: none;\n",
              "      border-radius: 50%;\n",
              "      cursor: pointer;\n",
              "      display: none;\n",
              "      fill: #1967D2;\n",
              "      height: 32px;\n",
              "      padding: 0 0 0 0;\n",
              "      width: 32px;\n",
              "    }\n",
              "\n",
              "    .colab-df-convert:hover {\n",
              "      background-color: #E2EBFA;\n",
              "      box-shadow: 0px 1px 2px rgba(60, 64, 67, 0.3), 0px 1px 3px 1px rgba(60, 64, 67, 0.15);\n",
              "      fill: #174EA6;\n",
              "    }\n",
              "\n",
              "    [theme=dark] .colab-df-convert {\n",
              "      background-color: #3B4455;\n",
              "      fill: #D2E3FC;\n",
              "    }\n",
              "\n",
              "    [theme=dark] .colab-df-convert:hover {\n",
              "      background-color: #434B5C;\n",
              "      box-shadow: 0px 1px 3px 1px rgba(0, 0, 0, 0.15);\n",
              "      filter: drop-shadow(0px 1px 2px rgba(0, 0, 0, 0.3));\n",
              "      fill: #FFFFFF;\n",
              "    }\n",
              "  </style>\n",
              "\n",
              "      <script>\n",
              "        const buttonEl =\n",
              "          document.querySelector('#df-0e167d82-061b-4c4a-8ddf-314cf25e0b76 button.colab-df-convert');\n",
              "        buttonEl.style.display =\n",
              "          google.colab.kernel.accessAllowed ? 'block' : 'none';\n",
              "\n",
              "        async function convertToInteractive(key) {\n",
              "          const element = document.querySelector('#df-0e167d82-061b-4c4a-8ddf-314cf25e0b76');\n",
              "          const dataTable =\n",
              "            await google.colab.kernel.invokeFunction('convertToInteractive',\n",
              "                                                     [key], {});\n",
              "          if (!dataTable) return;\n",
              "\n",
              "          const docLinkHtml = 'Like what you see? Visit the ' +\n",
              "            '<a target=\"_blank\" href=https://colab.research.google.com/notebooks/data_table.ipynb>data table notebook</a>'\n",
              "            + ' to learn more about interactive tables.';\n",
              "          element.innerHTML = '';\n",
              "          dataTable['output_type'] = 'display_data';\n",
              "          await google.colab.output.renderOutput(dataTable, element);\n",
              "          const docLink = document.createElement('div');\n",
              "          docLink.innerHTML = docLinkHtml;\n",
              "          element.appendChild(docLink);\n",
              "        }\n",
              "      </script>\n",
              "    </div>\n",
              "  </div>\n",
              "  "
            ],
            "text/plain": [
              "  HeartDisease    BMI Smoking  ... Asthma KidneyDisease  SkinCancer\n",
              "0           No  16.60     Yes  ...    Yes            No         Yes\n",
              "1           No  20.34      No  ...     No            No          No\n",
              "2           No  26.58     Yes  ...    Yes            No          No\n",
              "3           No  24.21      No  ...     No            No         Yes\n",
              "4           No  23.71      No  ...     No            No          No\n",
              "\n",
              "[5 rows x 18 columns]"
            ]
          },
          "metadata": {},
          "execution_count": 11
        }
      ]
    },
    {
      "cell_type": "code",
      "source": [
        "df.shape"
      ],
      "metadata": {
        "colab": {
          "base_uri": "https://localhost:8080/"
        },
        "id": "ZQN-o5T98ijT",
        "outputId": "eb80e129-8b5c-4f26-aa93-0d23ffbce760"
      },
      "execution_count": 12,
      "outputs": [
        {
          "output_type": "execute_result",
          "data": {
            "text/plain": [
              "(319795, 18)"
            ]
          },
          "metadata": {},
          "execution_count": 12
        }
      ]
    },
    {
      "cell_type": "code",
      "source": [
        "df.info()"
      ],
      "metadata": {
        "colab": {
          "base_uri": "https://localhost:8080/"
        },
        "id": "tn7qhH8G8kUf",
        "outputId": "69efe302-18b9-4e84-cd61-d06dbe8abe05"
      },
      "execution_count": 13,
      "outputs": [
        {
          "output_type": "stream",
          "name": "stdout",
          "text": [
            "<class 'pandas.core.frame.DataFrame'>\n",
            "RangeIndex: 319795 entries, 0 to 319794\n",
            "Data columns (total 18 columns):\n",
            " #   Column            Non-Null Count   Dtype  \n",
            "---  ------            --------------   -----  \n",
            " 0   HeartDisease      319795 non-null  object \n",
            " 1   BMI               319795 non-null  float64\n",
            " 2   Smoking           319795 non-null  object \n",
            " 3   AlcoholDrinking   319795 non-null  object \n",
            " 4   Stroke            319795 non-null  object \n",
            " 5   PhysicalHealth    319795 non-null  float64\n",
            " 6   MentalHealth      319795 non-null  float64\n",
            " 7   DiffWalking       319795 non-null  object \n",
            " 8   Sex               319795 non-null  object \n",
            " 9   AgeCategory       319795 non-null  object \n",
            " 10  Race              319795 non-null  object \n",
            " 11  Diabetic          319795 non-null  object \n",
            " 12  PhysicalActivity  319795 non-null  object \n",
            " 13  GenHealth         319795 non-null  object \n",
            " 14  SleepTime         319795 non-null  float64\n",
            " 15  Asthma            319795 non-null  object \n",
            " 16  KidneyDisease     319795 non-null  object \n",
            " 17  SkinCancer        319795 non-null  object \n",
            "dtypes: float64(4), object(14)\n",
            "memory usage: 43.9+ MB\n"
          ]
        }
      ]
    },
    {
      "cell_type": "code",
      "source": [
        "df.isna().sum()"
      ],
      "metadata": {
        "colab": {
          "base_uri": "https://localhost:8080/"
        },
        "id": "R_INmjybAd-x",
        "outputId": "e59db718-b201-410f-87f9-05cd452bce83"
      },
      "execution_count": 14,
      "outputs": [
        {
          "output_type": "execute_result",
          "data": {
            "text/plain": [
              "HeartDisease        0\n",
              "BMI                 0\n",
              "Smoking             0\n",
              "AlcoholDrinking     0\n",
              "Stroke              0\n",
              "PhysicalHealth      0\n",
              "MentalHealth        0\n",
              "DiffWalking         0\n",
              "Sex                 0\n",
              "AgeCategory         0\n",
              "Race                0\n",
              "Diabetic            0\n",
              "PhysicalActivity    0\n",
              "GenHealth           0\n",
              "SleepTime           0\n",
              "Asthma              0\n",
              "KidneyDisease       0\n",
              "SkinCancer          0\n",
              "dtype: int64"
            ]
          },
          "metadata": {},
          "execution_count": 14
        }
      ]
    },
    {
      "cell_type": "code",
      "source": [
        "df['Race'].value_counts()"
      ],
      "metadata": {
        "colab": {
          "base_uri": "https://localhost:8080/"
        },
        "id": "QyYwFb-cW-8c",
        "outputId": "40d56d25-f5db-4e3b-82ea-e31360301b30"
      },
      "execution_count": 15,
      "outputs": [
        {
          "output_type": "execute_result",
          "data": {
            "text/plain": [
              "White                             245212\n",
              "Hispanic                           27446\n",
              "Black                              22939\n",
              "Other                              10928\n",
              "Asian                               8068\n",
              "American Indian/Alaskan Native      5202\n",
              "Name: Race, dtype: int64"
            ]
          },
          "metadata": {},
          "execution_count": 15
        }
      ]
    },
    {
      "cell_type": "code",
      "source": [
        " df['PhysicalHealth'].value_counts()"
      ],
      "metadata": {
        "colab": {
          "base_uri": "https://localhost:8080/"
        },
        "id": "BPpTorKfAsRv",
        "outputId": "8f732e0e-4307-4a18-8be5-987bb3b67a02"
      },
      "execution_count": 16,
      "outputs": [
        {
          "output_type": "execute_result",
          "data": {
            "text/plain": [
              "0.0     226589\n",
              "30.0     19509\n",
              "2.0      14880\n",
              "1.0      10489\n",
              "3.0       8617\n",
              "5.0       7606\n",
              "10.0      5453\n",
              "15.0      5012\n",
              "7.0       4629\n",
              "4.0       4468\n",
              "20.0      3216\n",
              "14.0      2893\n",
              "6.0       1270\n",
              "25.0      1164\n",
              "8.0        924\n",
              "21.0       626\n",
              "12.0       605\n",
              "28.0       446\n",
              "29.0       204\n",
              "9.0        180\n",
              "18.0       167\n",
              "16.0       135\n",
              "27.0       124\n",
              "17.0       110\n",
              "13.0        91\n",
              "22.0        89\n",
              "11.0        85\n",
              "24.0        67\n",
              "26.0        66\n",
              "23.0        46\n",
              "19.0        35\n",
              "Name: PhysicalHealth, dtype: int64"
            ]
          },
          "metadata": {},
          "execution_count": 16
        }
      ]
    },
    {
      "cell_type": "code",
      "source": [
        "df['AgeCategory'].value_counts().sort_index()"
      ],
      "metadata": {
        "colab": {
          "base_uri": "https://localhost:8080/"
        },
        "id": "eZ5PWfI28xed",
        "outputId": "8315b13c-7470-4173-e6f4-f0465f40ef33"
      },
      "execution_count": 17,
      "outputs": [
        {
          "output_type": "execute_result",
          "data": {
            "text/plain": [
              "18-24          21064\n",
              "25-29          16955\n",
              "30-34          18753\n",
              "35-39          20550\n",
              "40-44          21006\n",
              "45-49          21791\n",
              "50-54          25382\n",
              "55-59          29757\n",
              "60-64          33686\n",
              "65-69          34151\n",
              "70-74          31065\n",
              "75-79          21482\n",
              "80 or older    24153\n",
              "Name: AgeCategory, dtype: int64"
            ]
          },
          "metadata": {},
          "execution_count": 17
        }
      ]
    },
    {
      "cell_type": "code",
      "source": [
        "df['AgeCategory'].value_counts().sort_index().index"
      ],
      "metadata": {
        "colab": {
          "base_uri": "https://localhost:8080/"
        },
        "id": "6V3SScjrH0LE",
        "outputId": "f3a98653-d54f-4afe-f069-88510e4d82f5"
      },
      "execution_count": 18,
      "outputs": [
        {
          "output_type": "execute_result",
          "data": {
            "text/plain": [
              "Index(['18-24', '25-29', '30-34', '35-39', '40-44', '45-49', '50-54', '55-59',\n",
              "       '60-64', '65-69', '70-74', '75-79', '80 or older'],\n",
              "      dtype='object')"
            ]
          },
          "metadata": {},
          "execution_count": 18
        }
      ]
    },
    {
      "cell_type": "code",
      "source": [
        "df['GenHealth'].value_counts() #ranking: Poor, Fair, Good, Very Good, Execellent"
      ],
      "metadata": {
        "colab": {
          "base_uri": "https://localhost:8080/"
        },
        "id": "h0RZZCBY9Sq6",
        "outputId": "992a8b06-9075-47fd-98ed-d76c60bec578"
      },
      "execution_count": 19,
      "outputs": [
        {
          "output_type": "execute_result",
          "data": {
            "text/plain": [
              "Very good    113858\n",
              "Good          93129\n",
              "Excellent     66842\n",
              "Fair          34677\n",
              "Poor          11289\n",
              "Name: GenHealth, dtype: int64"
            ]
          },
          "metadata": {},
          "execution_count": 19
        }
      ]
    },
    {
      "cell_type": "code",
      "source": [
        "df['GenHealth'].value_counts().index"
      ],
      "metadata": {
        "colab": {
          "base_uri": "https://localhost:8080/"
        },
        "id": "EPNygF7_INUg",
        "outputId": "5f4e9c7c-b243-4333-9908-f00f350b7c7e"
      },
      "execution_count": 20,
      "outputs": [
        {
          "output_type": "execute_result",
          "data": {
            "text/plain": [
              "Index(['Very good', 'Good', 'Excellent', 'Fair', 'Poor'], dtype='object')"
            ]
          },
          "metadata": {},
          "execution_count": 20
        }
      ]
    },
    {
      "cell_type": "code",
      "source": [
        "X = df.drop(['HeartDisease'], axis=1)"
      ],
      "metadata": {
        "id": "AwywxW3O99Q7"
      },
      "execution_count": 21,
      "outputs": []
    },
    {
      "cell_type": "code",
      "source": [
        "y = df['HeartDisease']"
      ],
      "metadata": {
        "id": "QT7tKb3A_LQl"
      },
      "execution_count": 22,
      "outputs": []
    },
    {
      "cell_type": "code",
      "source": [
        "y.head()"
      ],
      "metadata": {
        "colab": {
          "base_uri": "https://localhost:8080/"
        },
        "id": "6KMUCcKQ_MwF",
        "outputId": "d7ec8125-a4e8-42be-c192-44db2e6e7166"
      },
      "execution_count": 23,
      "outputs": [
        {
          "output_type": "execute_result",
          "data": {
            "text/plain": [
              "0    No\n",
              "1    No\n",
              "2    No\n",
              "3    No\n",
              "4    No\n",
              "Name: HeartDisease, dtype: object"
            ]
          },
          "metadata": {},
          "execution_count": 23
        }
      ]
    },
    {
      "cell_type": "code",
      "source": [
        "y.shape"
      ],
      "metadata": {
        "colab": {
          "base_uri": "https://localhost:8080/"
        },
        "id": "aSeOVcaZABBQ",
        "outputId": "2f72a676-e748-4fe0-83f2-c0a32bafcade"
      },
      "execution_count": 24,
      "outputs": [
        {
          "output_type": "execute_result",
          "data": {
            "text/plain": [
              "(319795,)"
            ]
          },
          "metadata": {},
          "execution_count": 24
        }
      ]
    },
    {
      "cell_type": "code",
      "source": [
        "y = np.where(y=='No',0,1)"
      ],
      "metadata": {
        "id": "-yQhpuwC_Otx"
      },
      "execution_count": 25,
      "outputs": []
    },
    {
      "cell_type": "code",
      "source": [
        "y"
      ],
      "metadata": {
        "colab": {
          "base_uri": "https://localhost:8080/"
        },
        "id": "SIz247Cw_6aC",
        "outputId": "43cca174-e500-4106-88f1-7fc64290490f"
      },
      "execution_count": 26,
      "outputs": [
        {
          "output_type": "execute_result",
          "data": {
            "text/plain": [
              "array([0, 0, 0, ..., 0, 0, 0])"
            ]
          },
          "metadata": {},
          "execution_count": 26
        }
      ]
    },
    {
      "cell_type": "code",
      "source": [
        "np.shape(y)"
      ],
      "metadata": {
        "colab": {
          "base_uri": "https://localhost:8080/"
        },
        "id": "jTnZMMMI_7l8",
        "outputId": "1c032cd2-da32-43ff-8cb8-b7327528feaf"
      },
      "execution_count": 27,
      "outputs": [
        {
          "output_type": "execute_result",
          "data": {
            "text/plain": [
              "(319795,)"
            ]
          },
          "metadata": {},
          "execution_count": 27
        }
      ]
    },
    {
      "cell_type": "code",
      "source": [
        "from sklearn.model_selection import train_test_split\n",
        "X_train, X_test, y_train, y_test = train_test_split(X, y, test_size=0.33, random_state=42)"
      ],
      "metadata": {
        "id": "pgmLg3pNBb5t"
      },
      "execution_count": 28,
      "outputs": []
    },
    {
      "cell_type": "code",
      "source": [
        "y_train.shape"
      ],
      "metadata": {
        "colab": {
          "base_uri": "https://localhost:8080/"
        },
        "id": "s7_REVCtCDh0",
        "outputId": "4417d729-6cc8-47e6-f875-df95b16ac41c"
      },
      "execution_count": 29,
      "outputs": [
        {
          "output_type": "execute_result",
          "data": {
            "text/plain": [
              "(214262,)"
            ]
          },
          "metadata": {},
          "execution_count": 29
        }
      ]
    },
    {
      "cell_type": "code",
      "source": [
        "y_test.shape"
      ],
      "metadata": {
        "colab": {
          "base_uri": "https://localhost:8080/"
        },
        "id": "P8JckwRhC4_C",
        "outputId": "e3fcaa51-32a1-4c36-8d77-cef5184c3395"
      },
      "execution_count": 30,
      "outputs": [
        {
          "output_type": "execute_result",
          "data": {
            "text/plain": [
              "(105533,)"
            ]
          },
          "metadata": {},
          "execution_count": 30
        }
      ]
    },
    {
      "cell_type": "code",
      "source": [
        "from sklearn.preprocessing import StandardScaler\n",
        "from sklearn.linear_model import LogisticRegression\n",
        "from sklearn.ensemble import RandomForestClassifier\n",
        "from sklearn.decomposition import PCA\n",
        "from sklearn.compose import make_column_transformer\n",
        "from sklearn.pipeline import Pipeline,make_pipeline\n",
        "from sklearn.preprocessing import OrdinalEncoder, OneHotEncoder\n",
        "from sklearn.compose import make_column_transformer, make_column_selector "
      ],
      "metadata": {
        "id": "yY_EK96TC7bz"
      },
      "execution_count": 31,
      "outputs": []
    },
    {
      "cell_type": "code",
      "source": [
        "ohe = OneHotEncoder()\n",
        "oe = OrdinalEncoder(categories=[['18-24', '25-29', '30-34', '35-39', '40-44', '45-49', '50-54', '55-59','60-64', '65-69', '70-74', '75-79', '80 or older'],['Poor','Fair','Good','Very good','Excellent']])\n",
        "oe2 = OrdinalEncoder()\n",
        "sc = StandardScaler()\n",
        "pca = PCA(0.9)\n",
        "lo = LogisticRegression()\n",
        "rfc = RandomForestClassifier(random_state=1)"
      ],
      "metadata": {
        "id": "-pYbfBncDGpp"
      },
      "execution_count": 32,
      "outputs": []
    },
    {
      "cell_type": "code",
      "source": [
        "ct = make_column_transformer(\n",
        "    (ohe, ['Sex','Race']) ,\n",
        "    (oe,['AgeCategory','GenHealth']),\n",
        "    (oe2,['Smoking','AlcoholDrinking','Stroke','DiffWalking','Diabetic','PhysicalActivity','Asthma','KidneyDisease','SkinCancer']),\n",
        "     remainder='passthrough')"
      ],
      "metadata": {
        "id": "vLVAwMGRHlpb"
      },
      "execution_count": 33,
      "outputs": []
    },
    {
      "cell_type": "code",
      "source": [
        "#pipe = make_pipeline(ct,sc,pca,lo)"
      ],
      "metadata": {
        "id": "iECBZ132X0IU"
      },
      "execution_count": 34,
      "outputs": []
    },
    {
      "cell_type": "code",
      "source": [
        "pipe = Pipeline([('preprocessing',ct),('standardscaler',sc),('pca',pca),('classifier',lo)])"
      ],
      "metadata": {
        "id": "MAG9kqdXuFWb"
      },
      "execution_count": 35,
      "outputs": []
    },
    {
      "cell_type": "code",
      "source": [
        "# Display Pipeline\n",
        "from sklearn import set_config\n",
        "set_config(display='diagram')\n",
        "#fit data\n",
        "pipe.fit(X_train,y_train)"
      ],
      "metadata": {
        "colab": {
          "base_uri": "https://localhost:8080/",
          "height": 265
        },
        "id": "7igKoZlsYDOz",
        "outputId": "f57aa27a-da89-4eb5-beea-bf675b7c3182"
      },
      "execution_count": 36,
      "outputs": [
        {
          "output_type": "execute_result",
          "data": {
            "text/html": [
              "<style>#sk-34cff245-27e9-4bf7-b98c-62bbb8252ea8 {color: black;background-color: white;}#sk-34cff245-27e9-4bf7-b98c-62bbb8252ea8 pre{padding: 0;}#sk-34cff245-27e9-4bf7-b98c-62bbb8252ea8 div.sk-toggleable {background-color: white;}#sk-34cff245-27e9-4bf7-b98c-62bbb8252ea8 label.sk-toggleable__label {cursor: pointer;display: block;width: 100%;margin-bottom: 0;padding: 0.3em;box-sizing: border-box;text-align: center;}#sk-34cff245-27e9-4bf7-b98c-62bbb8252ea8 label.sk-toggleable__label-arrow:before {content: \"▸\";float: left;margin-right: 0.25em;color: #696969;}#sk-34cff245-27e9-4bf7-b98c-62bbb8252ea8 label.sk-toggleable__label-arrow:hover:before {color: black;}#sk-34cff245-27e9-4bf7-b98c-62bbb8252ea8 div.sk-estimator:hover label.sk-toggleable__label-arrow:before {color: black;}#sk-34cff245-27e9-4bf7-b98c-62bbb8252ea8 div.sk-toggleable__content {max-height: 0;max-width: 0;overflow: hidden;text-align: left;background-color: #f0f8ff;}#sk-34cff245-27e9-4bf7-b98c-62bbb8252ea8 div.sk-toggleable__content pre {margin: 0.2em;color: black;border-radius: 0.25em;background-color: #f0f8ff;}#sk-34cff245-27e9-4bf7-b98c-62bbb8252ea8 input.sk-toggleable__control:checked~div.sk-toggleable__content {max-height: 200px;max-width: 100%;overflow: auto;}#sk-34cff245-27e9-4bf7-b98c-62bbb8252ea8 input.sk-toggleable__control:checked~label.sk-toggleable__label-arrow:before {content: \"▾\";}#sk-34cff245-27e9-4bf7-b98c-62bbb8252ea8 div.sk-estimator input.sk-toggleable__control:checked~label.sk-toggleable__label {background-color: #d4ebff;}#sk-34cff245-27e9-4bf7-b98c-62bbb8252ea8 div.sk-label input.sk-toggleable__control:checked~label.sk-toggleable__label {background-color: #d4ebff;}#sk-34cff245-27e9-4bf7-b98c-62bbb8252ea8 input.sk-hidden--visually {border: 0;clip: rect(1px 1px 1px 1px);clip: rect(1px, 1px, 1px, 1px);height: 1px;margin: -1px;overflow: hidden;padding: 0;position: absolute;width: 1px;}#sk-34cff245-27e9-4bf7-b98c-62bbb8252ea8 div.sk-estimator {font-family: monospace;background-color: #f0f8ff;border: 1px dotted black;border-radius: 0.25em;box-sizing: border-box;margin-bottom: 0.5em;}#sk-34cff245-27e9-4bf7-b98c-62bbb8252ea8 div.sk-estimator:hover {background-color: #d4ebff;}#sk-34cff245-27e9-4bf7-b98c-62bbb8252ea8 div.sk-parallel-item::after {content: \"\";width: 100%;border-bottom: 1px solid gray;flex-grow: 1;}#sk-34cff245-27e9-4bf7-b98c-62bbb8252ea8 div.sk-label:hover label.sk-toggleable__label {background-color: #d4ebff;}#sk-34cff245-27e9-4bf7-b98c-62bbb8252ea8 div.sk-serial::before {content: \"\";position: absolute;border-left: 1px solid gray;box-sizing: border-box;top: 2em;bottom: 0;left: 50%;}#sk-34cff245-27e9-4bf7-b98c-62bbb8252ea8 div.sk-serial {display: flex;flex-direction: column;align-items: center;background-color: white;padding-right: 0.2em;padding-left: 0.2em;}#sk-34cff245-27e9-4bf7-b98c-62bbb8252ea8 div.sk-item {z-index: 1;}#sk-34cff245-27e9-4bf7-b98c-62bbb8252ea8 div.sk-parallel {display: flex;align-items: stretch;justify-content: center;background-color: white;}#sk-34cff245-27e9-4bf7-b98c-62bbb8252ea8 div.sk-parallel::before {content: \"\";position: absolute;border-left: 1px solid gray;box-sizing: border-box;top: 2em;bottom: 0;left: 50%;}#sk-34cff245-27e9-4bf7-b98c-62bbb8252ea8 div.sk-parallel-item {display: flex;flex-direction: column;position: relative;background-color: white;}#sk-34cff245-27e9-4bf7-b98c-62bbb8252ea8 div.sk-parallel-item:first-child::after {align-self: flex-end;width: 50%;}#sk-34cff245-27e9-4bf7-b98c-62bbb8252ea8 div.sk-parallel-item:last-child::after {align-self: flex-start;width: 50%;}#sk-34cff245-27e9-4bf7-b98c-62bbb8252ea8 div.sk-parallel-item:only-child::after {width: 0;}#sk-34cff245-27e9-4bf7-b98c-62bbb8252ea8 div.sk-dashed-wrapped {border: 1px dashed gray;margin: 0 0.4em 0.5em 0.4em;box-sizing: border-box;padding-bottom: 0.4em;background-color: white;position: relative;}#sk-34cff245-27e9-4bf7-b98c-62bbb8252ea8 div.sk-label label {font-family: monospace;font-weight: bold;background-color: white;display: inline-block;line-height: 1.2em;}#sk-34cff245-27e9-4bf7-b98c-62bbb8252ea8 div.sk-label-container {position: relative;z-index: 2;text-align: center;}#sk-34cff245-27e9-4bf7-b98c-62bbb8252ea8 div.sk-container {/* jupyter's `normalize.less` sets `[hidden] { display: none; }` but bootstrap.min.css set `[hidden] { display: none !important; }` so we also need the `!important` here to be able to override the default hidden behavior on the sphinx rendered scikit-learn.org. See: https://github.com/scikit-learn/scikit-learn/issues/21755 */display: inline-block !important;position: relative;}#sk-34cff245-27e9-4bf7-b98c-62bbb8252ea8 div.sk-text-repr-fallback {display: none;}</style><div id=\"sk-34cff245-27e9-4bf7-b98c-62bbb8252ea8\" class=\"sk-top-container\"><div class=\"sk-text-repr-fallback\"><pre>Pipeline(steps=[(&#x27;preprocessing&#x27;,\n",
              "                 ColumnTransformer(remainder=&#x27;passthrough&#x27;,\n",
              "                                   transformers=[(&#x27;onehotencoder&#x27;,\n",
              "                                                  OneHotEncoder(),\n",
              "                                                  [&#x27;Sex&#x27;, &#x27;Race&#x27;]),\n",
              "                                                 (&#x27;ordinalencoder-1&#x27;,\n",
              "                                                  OrdinalEncoder(categories=[[&#x27;18-24&#x27;,\n",
              "                                                                              &#x27;25-29&#x27;,\n",
              "                                                                              &#x27;30-34&#x27;,\n",
              "                                                                              &#x27;35-39&#x27;,\n",
              "                                                                              &#x27;40-44&#x27;,\n",
              "                                                                              &#x27;45-49&#x27;,\n",
              "                                                                              &#x27;50-54&#x27;,\n",
              "                                                                              &#x27;55-59&#x27;,\n",
              "                                                                              &#x27;60-64&#x27;,\n",
              "                                                                              &#x27;65-69&#x27;,\n",
              "                                                                              &#x27;70-74&#x27;,\n",
              "                                                                              &#x27;75-79&#x27;,\n",
              "                                                                              &#x27;80 &#x27;\n",
              "                                                                              &#x27;or &#x27;\n",
              "                                                                              &#x27;older&#x27;],\n",
              "                                                                             [&#x27;Poor&#x27;,\n",
              "                                                                              &#x27;Fair&#x27;,\n",
              "                                                                              &#x27;Good&#x27;,\n",
              "                                                                              &#x27;Very &#x27;\n",
              "                                                                              &#x27;good&#x27;,\n",
              "                                                                              &#x27;Excellent&#x27;]]),\n",
              "                                                  [&#x27;AgeCategory&#x27;, &#x27;GenHealth&#x27;]),\n",
              "                                                 (&#x27;ordinalencoder-2&#x27;,\n",
              "                                                  OrdinalEncoder(),\n",
              "                                                  [&#x27;Smoking&#x27;, &#x27;AlcoholDrinking&#x27;,\n",
              "                                                   &#x27;Stroke&#x27;, &#x27;DiffWalking&#x27;,\n",
              "                                                   &#x27;Diabetic&#x27;,\n",
              "                                                   &#x27;PhysicalActivity&#x27;, &#x27;Asthma&#x27;,\n",
              "                                                   &#x27;KidneyDisease&#x27;,\n",
              "                                                   &#x27;SkinCancer&#x27;])])),\n",
              "                (&#x27;standardscaler&#x27;, StandardScaler()),\n",
              "                (&#x27;pca&#x27;, PCA(n_components=0.9)),\n",
              "                (&#x27;classifier&#x27;, LogisticRegression())])</pre><b>Please rerun this cell to show the HTML repr or trust the notebook.</b></div><div class=\"sk-container\" hidden><div class=\"sk-item sk-dashed-wrapped\"><div class=\"sk-label-container\"><div class=\"sk-label sk-toggleable\"><input class=\"sk-toggleable__control sk-hidden--visually\" id=\"4956f10f-73a3-4a55-991d-029b9c047940\" type=\"checkbox\" ><label for=\"4956f10f-73a3-4a55-991d-029b9c047940\" class=\"sk-toggleable__label sk-toggleable__label-arrow\">Pipeline</label><div class=\"sk-toggleable__content\"><pre>Pipeline(steps=[(&#x27;preprocessing&#x27;,\n",
              "                 ColumnTransformer(remainder=&#x27;passthrough&#x27;,\n",
              "                                   transformers=[(&#x27;onehotencoder&#x27;,\n",
              "                                                  OneHotEncoder(),\n",
              "                                                  [&#x27;Sex&#x27;, &#x27;Race&#x27;]),\n",
              "                                                 (&#x27;ordinalencoder-1&#x27;,\n",
              "                                                  OrdinalEncoder(categories=[[&#x27;18-24&#x27;,\n",
              "                                                                              &#x27;25-29&#x27;,\n",
              "                                                                              &#x27;30-34&#x27;,\n",
              "                                                                              &#x27;35-39&#x27;,\n",
              "                                                                              &#x27;40-44&#x27;,\n",
              "                                                                              &#x27;45-49&#x27;,\n",
              "                                                                              &#x27;50-54&#x27;,\n",
              "                                                                              &#x27;55-59&#x27;,\n",
              "                                                                              &#x27;60-64&#x27;,\n",
              "                                                                              &#x27;65-69&#x27;,\n",
              "                                                                              &#x27;70-74&#x27;,\n",
              "                                                                              &#x27;75-79&#x27;,\n",
              "                                                                              &#x27;80 &#x27;\n",
              "                                                                              &#x27;or &#x27;\n",
              "                                                                              &#x27;older&#x27;],\n",
              "                                                                             [&#x27;Poor&#x27;,\n",
              "                                                                              &#x27;Fair&#x27;,\n",
              "                                                                              &#x27;Good&#x27;,\n",
              "                                                                              &#x27;Very &#x27;\n",
              "                                                                              &#x27;good&#x27;,\n",
              "                                                                              &#x27;Excellent&#x27;]]),\n",
              "                                                  [&#x27;AgeCategory&#x27;, &#x27;GenHealth&#x27;]),\n",
              "                                                 (&#x27;ordinalencoder-2&#x27;,\n",
              "                                                  OrdinalEncoder(),\n",
              "                                                  [&#x27;Smoking&#x27;, &#x27;AlcoholDrinking&#x27;,\n",
              "                                                   &#x27;Stroke&#x27;, &#x27;DiffWalking&#x27;,\n",
              "                                                   &#x27;Diabetic&#x27;,\n",
              "                                                   &#x27;PhysicalActivity&#x27;, &#x27;Asthma&#x27;,\n",
              "                                                   &#x27;KidneyDisease&#x27;,\n",
              "                                                   &#x27;SkinCancer&#x27;])])),\n",
              "                (&#x27;standardscaler&#x27;, StandardScaler()),\n",
              "                (&#x27;pca&#x27;, PCA(n_components=0.9)),\n",
              "                (&#x27;classifier&#x27;, LogisticRegression())])</pre></div></div></div><div class=\"sk-serial\"><div class=\"sk-item sk-dashed-wrapped\"><div class=\"sk-label-container\"><div class=\"sk-label sk-toggleable\"><input class=\"sk-toggleable__control sk-hidden--visually\" id=\"ebeb362b-72c8-4088-b209-6c2094fd51a0\" type=\"checkbox\" ><label for=\"ebeb362b-72c8-4088-b209-6c2094fd51a0\" class=\"sk-toggleable__label sk-toggleable__label-arrow\">preprocessing: ColumnTransformer</label><div class=\"sk-toggleable__content\"><pre>ColumnTransformer(remainder=&#x27;passthrough&#x27;,\n",
              "                  transformers=[(&#x27;onehotencoder&#x27;, OneHotEncoder(),\n",
              "                                 [&#x27;Sex&#x27;, &#x27;Race&#x27;]),\n",
              "                                (&#x27;ordinalencoder-1&#x27;,\n",
              "                                 OrdinalEncoder(categories=[[&#x27;18-24&#x27;, &#x27;25-29&#x27;,\n",
              "                                                             &#x27;30-34&#x27;, &#x27;35-39&#x27;,\n",
              "                                                             &#x27;40-44&#x27;, &#x27;45-49&#x27;,\n",
              "                                                             &#x27;50-54&#x27;, &#x27;55-59&#x27;,\n",
              "                                                             &#x27;60-64&#x27;, &#x27;65-69&#x27;,\n",
              "                                                             &#x27;70-74&#x27;, &#x27;75-79&#x27;,\n",
              "                                                             &#x27;80 or older&#x27;],\n",
              "                                                            [&#x27;Poor&#x27;, &#x27;Fair&#x27;,\n",
              "                                                             &#x27;Good&#x27;,\n",
              "                                                             &#x27;Very good&#x27;,\n",
              "                                                             &#x27;Excellent&#x27;]]),\n",
              "                                 [&#x27;AgeCategory&#x27;, &#x27;GenHealth&#x27;]),\n",
              "                                (&#x27;ordinalencoder-2&#x27;, OrdinalEncoder(),\n",
              "                                 [&#x27;Smoking&#x27;, &#x27;AlcoholDrinking&#x27;, &#x27;Stroke&#x27;,\n",
              "                                  &#x27;DiffWalking&#x27;, &#x27;Diabetic&#x27;, &#x27;PhysicalActivity&#x27;,\n",
              "                                  &#x27;Asthma&#x27;, &#x27;KidneyDisease&#x27;, &#x27;SkinCancer&#x27;])])</pre></div></div></div><div class=\"sk-parallel\"><div class=\"sk-parallel-item\"><div class=\"sk-item\"><div class=\"sk-label-container\"><div class=\"sk-label sk-toggleable\"><input class=\"sk-toggleable__control sk-hidden--visually\" id=\"2b542e94-729d-42d4-b73b-8bb6693c9ff7\" type=\"checkbox\" ><label for=\"2b542e94-729d-42d4-b73b-8bb6693c9ff7\" class=\"sk-toggleable__label sk-toggleable__label-arrow\">onehotencoder</label><div class=\"sk-toggleable__content\"><pre>[&#x27;Sex&#x27;, &#x27;Race&#x27;]</pre></div></div></div><div class=\"sk-serial\"><div class=\"sk-item\"><div class=\"sk-estimator sk-toggleable\"><input class=\"sk-toggleable__control sk-hidden--visually\" id=\"4c1fd55c-0c4d-493a-b74a-fe50e1ec1259\" type=\"checkbox\" ><label for=\"4c1fd55c-0c4d-493a-b74a-fe50e1ec1259\" class=\"sk-toggleable__label sk-toggleable__label-arrow\">OneHotEncoder</label><div class=\"sk-toggleable__content\"><pre>OneHotEncoder()</pre></div></div></div></div></div></div><div class=\"sk-parallel-item\"><div class=\"sk-item\"><div class=\"sk-label-container\"><div class=\"sk-label sk-toggleable\"><input class=\"sk-toggleable__control sk-hidden--visually\" id=\"ba5629c2-a7aa-494f-aa69-bea8aefcbdcd\" type=\"checkbox\" ><label for=\"ba5629c2-a7aa-494f-aa69-bea8aefcbdcd\" class=\"sk-toggleable__label sk-toggleable__label-arrow\">ordinalencoder-1</label><div class=\"sk-toggleable__content\"><pre>[&#x27;AgeCategory&#x27;, &#x27;GenHealth&#x27;]</pre></div></div></div><div class=\"sk-serial\"><div class=\"sk-item\"><div class=\"sk-estimator sk-toggleable\"><input class=\"sk-toggleable__control sk-hidden--visually\" id=\"edd8a63f-0e27-4060-b7fe-eee02c4052e7\" type=\"checkbox\" ><label for=\"edd8a63f-0e27-4060-b7fe-eee02c4052e7\" class=\"sk-toggleable__label sk-toggleable__label-arrow\">OrdinalEncoder</label><div class=\"sk-toggleable__content\"><pre>OrdinalEncoder(categories=[[&#x27;18-24&#x27;, &#x27;25-29&#x27;, &#x27;30-34&#x27;, &#x27;35-39&#x27;, &#x27;40-44&#x27;,\n",
              "                            &#x27;45-49&#x27;, &#x27;50-54&#x27;, &#x27;55-59&#x27;, &#x27;60-64&#x27;, &#x27;65-69&#x27;,\n",
              "                            &#x27;70-74&#x27;, &#x27;75-79&#x27;, &#x27;80 or older&#x27;],\n",
              "                           [&#x27;Poor&#x27;, &#x27;Fair&#x27;, &#x27;Good&#x27;, &#x27;Very good&#x27;, &#x27;Excellent&#x27;]])</pre></div></div></div></div></div></div><div class=\"sk-parallel-item\"><div class=\"sk-item\"><div class=\"sk-label-container\"><div class=\"sk-label sk-toggleable\"><input class=\"sk-toggleable__control sk-hidden--visually\" id=\"508ff110-4a93-4ff5-93c2-4b2a47c432c5\" type=\"checkbox\" ><label for=\"508ff110-4a93-4ff5-93c2-4b2a47c432c5\" class=\"sk-toggleable__label sk-toggleable__label-arrow\">ordinalencoder-2</label><div class=\"sk-toggleable__content\"><pre>[&#x27;Smoking&#x27;, &#x27;AlcoholDrinking&#x27;, &#x27;Stroke&#x27;, &#x27;DiffWalking&#x27;, &#x27;Diabetic&#x27;, &#x27;PhysicalActivity&#x27;, &#x27;Asthma&#x27;, &#x27;KidneyDisease&#x27;, &#x27;SkinCancer&#x27;]</pre></div></div></div><div class=\"sk-serial\"><div class=\"sk-item\"><div class=\"sk-estimator sk-toggleable\"><input class=\"sk-toggleable__control sk-hidden--visually\" id=\"09dc1afe-d586-4581-b908-115d341343f6\" type=\"checkbox\" ><label for=\"09dc1afe-d586-4581-b908-115d341343f6\" class=\"sk-toggleable__label sk-toggleable__label-arrow\">OrdinalEncoder</label><div class=\"sk-toggleable__content\"><pre>OrdinalEncoder()</pre></div></div></div></div></div></div><div class=\"sk-parallel-item\"><div class=\"sk-item\"><div class=\"sk-label-container\"><div class=\"sk-label sk-toggleable\"><input class=\"sk-toggleable__control sk-hidden--visually\" id=\"945be035-5449-47da-a46e-c7bcc1917919\" type=\"checkbox\" ><label for=\"945be035-5449-47da-a46e-c7bcc1917919\" class=\"sk-toggleable__label sk-toggleable__label-arrow\">remainder</label><div class=\"sk-toggleable__content\"><pre>[&#x27;BMI&#x27;, &#x27;PhysicalHealth&#x27;, &#x27;MentalHealth&#x27;, &#x27;SleepTime&#x27;]</pre></div></div></div><div class=\"sk-serial\"><div class=\"sk-item\"><div class=\"sk-estimator sk-toggleable\"><input class=\"sk-toggleable__control sk-hidden--visually\" id=\"628ecd77-66be-4731-a1f9-e3f686d91f1f\" type=\"checkbox\" ><label for=\"628ecd77-66be-4731-a1f9-e3f686d91f1f\" class=\"sk-toggleable__label sk-toggleable__label-arrow\">passthrough</label><div class=\"sk-toggleable__content\"><pre>passthrough</pre></div></div></div></div></div></div></div></div><div class=\"sk-item\"><div class=\"sk-estimator sk-toggleable\"><input class=\"sk-toggleable__control sk-hidden--visually\" id=\"0013e1c1-7eef-47dd-951a-2a2a5082e6cd\" type=\"checkbox\" ><label for=\"0013e1c1-7eef-47dd-951a-2a2a5082e6cd\" class=\"sk-toggleable__label sk-toggleable__label-arrow\">StandardScaler</label><div class=\"sk-toggleable__content\"><pre>StandardScaler()</pre></div></div></div><div class=\"sk-item\"><div class=\"sk-estimator sk-toggleable\"><input class=\"sk-toggleable__control sk-hidden--visually\" id=\"e5461368-497c-4aed-8aac-3ba4916d5786\" type=\"checkbox\" ><label for=\"e5461368-497c-4aed-8aac-3ba4916d5786\" class=\"sk-toggleable__label sk-toggleable__label-arrow\">PCA</label><div class=\"sk-toggleable__content\"><pre>PCA(n_components=0.9)</pre></div></div></div><div class=\"sk-item\"><div class=\"sk-estimator sk-toggleable\"><input class=\"sk-toggleable__control sk-hidden--visually\" id=\"c08f782e-a763-4ce4-ba22-3b49219e8481\" type=\"checkbox\" ><label for=\"c08f782e-a763-4ce4-ba22-3b49219e8481\" class=\"sk-toggleable__label sk-toggleable__label-arrow\">LogisticRegression</label><div class=\"sk-toggleable__content\"><pre>LogisticRegression()</pre></div></div></div></div></div></div></div>"
            ],
            "text/plain": [
              "Pipeline(steps=[('preprocessing',\n",
              "                 ColumnTransformer(remainder='passthrough',\n",
              "                                   transformers=[('onehotencoder',\n",
              "                                                  OneHotEncoder(),\n",
              "                                                  ['Sex', 'Race']),\n",
              "                                                 ('ordinalencoder-1',\n",
              "                                                  OrdinalEncoder(categories=[['18-24',\n",
              "                                                                              '25-29',\n",
              "                                                                              '30-34',\n",
              "                                                                              '35-39',\n",
              "                                                                              '40-44',\n",
              "                                                                              '45-49',\n",
              "                                                                              '50-54',\n",
              "                                                                              '55-59',\n",
              "                                                                              '60-64',\n",
              "                                                                              '65-69',\n",
              "                                                                              '70-74',\n",
              "                                                                              '75-79',\n",
              "                                                                              '80 '\n",
              "                                                                              'or '\n",
              "                                                                              'older'],\n",
              "                                                                             ['Poor',\n",
              "                                                                              'Fair',\n",
              "                                                                              'Good',\n",
              "                                                                              'Very '\n",
              "                                                                              'good',\n",
              "                                                                              'Excellent']]),\n",
              "                                                  ['AgeCategory', 'GenHealth']),\n",
              "                                                 ('ordinalencoder-2',\n",
              "                                                  OrdinalEncoder(),\n",
              "                                                  ['Smoking', 'AlcoholDrinking',\n",
              "                                                   'Stroke', 'DiffWalking',\n",
              "                                                   'Diabetic',\n",
              "                                                   'PhysicalActivity', 'Asthma',\n",
              "                                                   'KidneyDisease',\n",
              "                                                   'SkinCancer'])])),\n",
              "                ('standardscaler', StandardScaler()),\n",
              "                ('pca', PCA(n_components=0.9)),\n",
              "                ('classifier', LogisticRegression())])"
            ]
          },
          "metadata": {},
          "execution_count": 36
        }
      ]
    },
    {
      "cell_type": "code",
      "source": [
        "y_pred = pipe.predict(X_test)\n",
        "y_pred"
      ],
      "metadata": {
        "colab": {
          "base_uri": "https://localhost:8080/"
        },
        "id": "a_7-sZNuYMYi",
        "outputId": "4e1e17e4-2c56-4ca8-e86e-632ced526fbe"
      },
      "execution_count": 37,
      "outputs": [
        {
          "output_type": "execute_result",
          "data": {
            "text/plain": [
              "array([0, 0, 0, ..., 0, 0, 0])"
            ]
          },
          "metadata": {},
          "execution_count": 37
        }
      ]
    },
    {
      "cell_type": "code",
      "source": [
        "from sklearn.model_selection import cross_val_score"
      ],
      "metadata": {
        "id": "LQ6M8c2kdL5A"
      },
      "execution_count": 38,
      "outputs": []
    },
    {
      "cell_type": "code",
      "source": [
        "cross_val_score(pipe,X_test,y_test,cv=5, scoring='accuracy').mean()"
      ],
      "metadata": {
        "colab": {
          "base_uri": "https://localhost:8080/"
        },
        "id": "gYNrTT54dXP5",
        "outputId": "17497dac-6453-4c76-d1d9-6ea99862e85a"
      },
      "execution_count": 39,
      "outputs": [
        {
          "output_type": "execute_result",
          "data": {
            "text/plain": [
              "0.9138468516588176"
            ]
          },
          "metadata": {},
          "execution_count": 39
        }
      ]
    },
    {
      "cell_type": "code",
      "source": [
        "cross_val_score(pipe,X,y,cv=5, scoring='accuracy').mean()"
      ],
      "metadata": {
        "colab": {
          "base_uri": "https://localhost:8080/"
        },
        "id": "QoY9OdHaddmg",
        "outputId": "377da6c6-6903-434d-fe30-62c67e4bc17a"
      },
      "execution_count": 40,
      "outputs": [
        {
          "output_type": "execute_result",
          "data": {
            "text/plain": [
              "0.9151518941822105"
            ]
          },
          "metadata": {},
          "execution_count": 40
        }
      ]
    },
    {
      "cell_type": "code",
      "source": [
        "pca.n_components_"
      ],
      "metadata": {
        "colab": {
          "base_uri": "https://localhost:8080/"
        },
        "id": "hlWRctc4eZof",
        "outputId": "2390918a-381d-4505-dd7a-2b5008ac0bff"
      },
      "execution_count": 41,
      "outputs": [
        {
          "output_type": "execute_result",
          "data": {
            "text/plain": [
              "18"
            ]
          },
          "metadata": {},
          "execution_count": 41
        }
      ]
    },
    {
      "cell_type": "code",
      "source": [
        "pca.explained_variance_ratio_"
      ],
      "metadata": {
        "colab": {
          "base_uri": "https://localhost:8080/"
        },
        "id": "6b9XMRAhevwa",
        "outputId": "d0d73569-ce0f-4034-ff5e-d194805e01cf"
      },
      "execution_count": 42,
      "outputs": [
        {
          "output_type": "execute_result",
          "data": {
            "text/plain": [
              "array([0.12076939, 0.08964344, 0.08651122, 0.06050708, 0.04931525,\n",
              "       0.04789295, 0.0467824 , 0.04506606, 0.04424465, 0.04223905,\n",
              "       0.04113819, 0.04079487, 0.04008671, 0.03907   , 0.03685539,\n",
              "       0.03543039, 0.03307139, 0.03141911])"
            ]
          },
          "metadata": {},
          "execution_count": 42
        }
      ]
    },
    {
      "cell_type": "code",
      "source": [
        "# specify parameter value to search [params1]\n",
        "params1 = {}\n",
        "params1['classifier__penalty'] = ['l1', 'l2', 'elasticnet', 'none']\n",
        "params1['classifier__solver'] = ['newton-cg', 'lbfgs', 'liblinear', 'sag', 'saga']\n",
        "params1['classifier'] = [lo]"
      ],
      "metadata": {
        "id": "SAPHfkFoezwL"
      },
      "execution_count": 43,
      "outputs": []
    },
    {
      "cell_type": "code",
      "source": [
        "# specify parameter value to search [params2]\n",
        "params2 = {}\n",
        "params2['classifier__n_estimators'] = [100,200]\n",
        "params2['classifier__min_samples_leaf'] = [1,2]\n",
        "params2['classifier'] = [rfc]"
      ],
      "metadata": {
        "id": "Mc6BTFgUwvkW"
      },
      "execution_count": 44,
      "outputs": []
    },
    {
      "cell_type": "code",
      "source": [
        "# create a list of parameter dictionaries\n",
        "params = [params1,params2]"
      ],
      "metadata": {
        "id": "68OLppdFxhot"
      },
      "execution_count": 45,
      "outputs": []
    },
    {
      "cell_type": "code",
      "source": [
        "from sklearn.model_selection import RandomizedSearchCV"
      ],
      "metadata": {
        "id": "AalVHLx_jox2"
      },
      "execution_count": 46,
      "outputs": []
    },
    {
      "cell_type": "code",
      "source": [
        "from pandas.core.common import random_state\n",
        "rand = RandomizedSearchCV(pipe, params, cv=5, n_iter=10, scoring='accuracy', random_state=1)"
      ],
      "metadata": {
        "id": "G8mqqWeUjw9x"
      },
      "execution_count": 65,
      "outputs": []
    },
    {
      "cell_type": "code",
      "source": [
        "rand.fit(X_test,y_test)"
      ],
      "metadata": {
        "colab": {
          "base_uri": "https://localhost:8080/",
          "height": 1000
        },
        "id": "ikL5AcI7keh0",
        "outputId": "83a0d811-652f-40a5-d9dd-b6da4c46d41b"
      },
      "execution_count": 66,
      "outputs": [
        {
          "output_type": "stream",
          "name": "stderr",
          "text": [
            "/usr/local/lib/python3.7/dist-packages/sklearn/model_selection/_validation.py:372: FitFailedWarning: \n",
            "25 fits failed out of a total of 50.\n",
            "The score on these train-test partitions for these parameters will be set to nan.\n",
            "If these failures are not expected, you can try to debug them by setting error_score='raise'.\n",
            "\n",
            "Below are more details about the failures:\n",
            "--------------------------------------------------------------------------------\n",
            "5 fits failed with the following error:\n",
            "Traceback (most recent call last):\n",
            "  File \"/usr/local/lib/python3.7/dist-packages/sklearn/model_selection/_validation.py\", line 680, in _fit_and_score\n",
            "    estimator.fit(X_train, y_train, **fit_params)\n",
            "  File \"/usr/local/lib/python3.7/dist-packages/sklearn/pipeline.py\", line 394, in fit\n",
            "    self._final_estimator.fit(Xt, y, **fit_params_last_step)\n",
            "  File \"/usr/local/lib/python3.7/dist-packages/sklearn/linear_model/_logistic.py\", line 1461, in fit\n",
            "    solver = _check_solver(self.solver, self.penalty, self.dual)\n",
            "  File \"/usr/local/lib/python3.7/dist-packages/sklearn/linear_model/_logistic.py\", line 449, in _check_solver\n",
            "    % (solver, penalty)\n",
            "ValueError: Solver sag supports only 'l2' or 'none' penalties, got elasticnet penalty.\n",
            "\n",
            "--------------------------------------------------------------------------------\n",
            "5 fits failed with the following error:\n",
            "Traceback (most recent call last):\n",
            "  File \"/usr/local/lib/python3.7/dist-packages/sklearn/model_selection/_validation.py\", line 680, in _fit_and_score\n",
            "    estimator.fit(X_train, y_train, **fit_params)\n",
            "  File \"/usr/local/lib/python3.7/dist-packages/sklearn/pipeline.py\", line 394, in fit\n",
            "    self._final_estimator.fit(Xt, y, **fit_params_last_step)\n",
            "  File \"/usr/local/lib/python3.7/dist-packages/sklearn/linear_model/_logistic.py\", line 1461, in fit\n",
            "    solver = _check_solver(self.solver, self.penalty, self.dual)\n",
            "  File \"/usr/local/lib/python3.7/dist-packages/sklearn/linear_model/_logistic.py\", line 449, in _check_solver\n",
            "    % (solver, penalty)\n",
            "ValueError: Solver sag supports only 'l2' or 'none' penalties, got l1 penalty.\n",
            "\n",
            "--------------------------------------------------------------------------------\n",
            "5 fits failed with the following error:\n",
            "Traceback (most recent call last):\n",
            "  File \"/usr/local/lib/python3.7/dist-packages/sklearn/model_selection/_validation.py\", line 680, in _fit_and_score\n",
            "    estimator.fit(X_train, y_train, **fit_params)\n",
            "  File \"/usr/local/lib/python3.7/dist-packages/sklearn/pipeline.py\", line 394, in fit\n",
            "    self._final_estimator.fit(Xt, y, **fit_params_last_step)\n",
            "  File \"/usr/local/lib/python3.7/dist-packages/sklearn/linear_model/_logistic.py\", line 1473, in fit\n",
            "    % self.l1_ratio\n",
            "ValueError: l1_ratio must be between 0 and 1; got (l1_ratio=None)\n",
            "\n",
            "--------------------------------------------------------------------------------\n",
            "5 fits failed with the following error:\n",
            "Traceback (most recent call last):\n",
            "  File \"/usr/local/lib/python3.7/dist-packages/sklearn/model_selection/_validation.py\", line 680, in _fit_and_score\n",
            "    estimator.fit(X_train, y_train, **fit_params)\n",
            "  File \"/usr/local/lib/python3.7/dist-packages/sklearn/pipeline.py\", line 394, in fit\n",
            "    self._final_estimator.fit(Xt, y, **fit_params_last_step)\n",
            "  File \"/usr/local/lib/python3.7/dist-packages/sklearn/linear_model/_logistic.py\", line 1461, in fit\n",
            "    solver = _check_solver(self.solver, self.penalty, self.dual)\n",
            "  File \"/usr/local/lib/python3.7/dist-packages/sklearn/linear_model/_logistic.py\", line 464, in _check_solver\n",
            "    raise ValueError(\"penalty='none' is not supported for the liblinear solver\")\n",
            "ValueError: penalty='none' is not supported for the liblinear solver\n",
            "\n",
            "--------------------------------------------------------------------------------\n",
            "5 fits failed with the following error:\n",
            "Traceback (most recent call last):\n",
            "  File \"/usr/local/lib/python3.7/dist-packages/sklearn/model_selection/_validation.py\", line 680, in _fit_and_score\n",
            "    estimator.fit(X_train, y_train, **fit_params)\n",
            "  File \"/usr/local/lib/python3.7/dist-packages/sklearn/pipeline.py\", line 394, in fit\n",
            "    self._final_estimator.fit(Xt, y, **fit_params_last_step)\n",
            "  File \"/usr/local/lib/python3.7/dist-packages/sklearn/linear_model/_logistic.py\", line 1461, in fit\n",
            "    solver = _check_solver(self.solver, self.penalty, self.dual)\n",
            "  File \"/usr/local/lib/python3.7/dist-packages/sklearn/linear_model/_logistic.py\", line 449, in _check_solver\n",
            "    % (solver, penalty)\n",
            "ValueError: Solver newton-cg supports only 'l2' or 'none' penalties, got elasticnet penalty.\n",
            "\n",
            "  warnings.warn(some_fits_failed_message, FitFailedWarning)\n",
            "/usr/local/lib/python3.7/dist-packages/sklearn/model_selection/_search.py:972: UserWarning: One or more of the test scores are non-finite: [       nan 0.91384685        nan        nan 0.90740337        nan\n",
            "        nan 0.91384685 0.91384685 0.91384685]\n",
            "  category=UserWarning,\n"
          ]
        },
        {
          "output_type": "execute_result",
          "data": {
            "text/html": [
              "<style>#sk-b9a5fcf0-ec17-4a0f-87f1-04c9f339292f {color: black;background-color: white;}#sk-b9a5fcf0-ec17-4a0f-87f1-04c9f339292f pre{padding: 0;}#sk-b9a5fcf0-ec17-4a0f-87f1-04c9f339292f div.sk-toggleable {background-color: white;}#sk-b9a5fcf0-ec17-4a0f-87f1-04c9f339292f label.sk-toggleable__label {cursor: pointer;display: block;width: 100%;margin-bottom: 0;padding: 0.3em;box-sizing: border-box;text-align: center;}#sk-b9a5fcf0-ec17-4a0f-87f1-04c9f339292f label.sk-toggleable__label-arrow:before {content: \"▸\";float: left;margin-right: 0.25em;color: #696969;}#sk-b9a5fcf0-ec17-4a0f-87f1-04c9f339292f label.sk-toggleable__label-arrow:hover:before {color: black;}#sk-b9a5fcf0-ec17-4a0f-87f1-04c9f339292f div.sk-estimator:hover label.sk-toggleable__label-arrow:before {color: black;}#sk-b9a5fcf0-ec17-4a0f-87f1-04c9f339292f div.sk-toggleable__content {max-height: 0;max-width: 0;overflow: hidden;text-align: left;background-color: #f0f8ff;}#sk-b9a5fcf0-ec17-4a0f-87f1-04c9f339292f div.sk-toggleable__content pre {margin: 0.2em;color: black;border-radius: 0.25em;background-color: #f0f8ff;}#sk-b9a5fcf0-ec17-4a0f-87f1-04c9f339292f input.sk-toggleable__control:checked~div.sk-toggleable__content {max-height: 200px;max-width: 100%;overflow: auto;}#sk-b9a5fcf0-ec17-4a0f-87f1-04c9f339292f input.sk-toggleable__control:checked~label.sk-toggleable__label-arrow:before {content: \"▾\";}#sk-b9a5fcf0-ec17-4a0f-87f1-04c9f339292f div.sk-estimator input.sk-toggleable__control:checked~label.sk-toggleable__label {background-color: #d4ebff;}#sk-b9a5fcf0-ec17-4a0f-87f1-04c9f339292f div.sk-label input.sk-toggleable__control:checked~label.sk-toggleable__label {background-color: #d4ebff;}#sk-b9a5fcf0-ec17-4a0f-87f1-04c9f339292f input.sk-hidden--visually {border: 0;clip: rect(1px 1px 1px 1px);clip: rect(1px, 1px, 1px, 1px);height: 1px;margin: -1px;overflow: hidden;padding: 0;position: absolute;width: 1px;}#sk-b9a5fcf0-ec17-4a0f-87f1-04c9f339292f div.sk-estimator {font-family: monospace;background-color: #f0f8ff;border: 1px dotted black;border-radius: 0.25em;box-sizing: border-box;margin-bottom: 0.5em;}#sk-b9a5fcf0-ec17-4a0f-87f1-04c9f339292f div.sk-estimator:hover {background-color: #d4ebff;}#sk-b9a5fcf0-ec17-4a0f-87f1-04c9f339292f div.sk-parallel-item::after {content: \"\";width: 100%;border-bottom: 1px solid gray;flex-grow: 1;}#sk-b9a5fcf0-ec17-4a0f-87f1-04c9f339292f div.sk-label:hover label.sk-toggleable__label {background-color: #d4ebff;}#sk-b9a5fcf0-ec17-4a0f-87f1-04c9f339292f div.sk-serial::before {content: \"\";position: absolute;border-left: 1px solid gray;box-sizing: border-box;top: 2em;bottom: 0;left: 50%;}#sk-b9a5fcf0-ec17-4a0f-87f1-04c9f339292f div.sk-serial {display: flex;flex-direction: column;align-items: center;background-color: white;padding-right: 0.2em;padding-left: 0.2em;}#sk-b9a5fcf0-ec17-4a0f-87f1-04c9f339292f div.sk-item {z-index: 1;}#sk-b9a5fcf0-ec17-4a0f-87f1-04c9f339292f div.sk-parallel {display: flex;align-items: stretch;justify-content: center;background-color: white;}#sk-b9a5fcf0-ec17-4a0f-87f1-04c9f339292f div.sk-parallel::before {content: \"\";position: absolute;border-left: 1px solid gray;box-sizing: border-box;top: 2em;bottom: 0;left: 50%;}#sk-b9a5fcf0-ec17-4a0f-87f1-04c9f339292f div.sk-parallel-item {display: flex;flex-direction: column;position: relative;background-color: white;}#sk-b9a5fcf0-ec17-4a0f-87f1-04c9f339292f div.sk-parallel-item:first-child::after {align-self: flex-end;width: 50%;}#sk-b9a5fcf0-ec17-4a0f-87f1-04c9f339292f div.sk-parallel-item:last-child::after {align-self: flex-start;width: 50%;}#sk-b9a5fcf0-ec17-4a0f-87f1-04c9f339292f div.sk-parallel-item:only-child::after {width: 0;}#sk-b9a5fcf0-ec17-4a0f-87f1-04c9f339292f div.sk-dashed-wrapped {border: 1px dashed gray;margin: 0 0.4em 0.5em 0.4em;box-sizing: border-box;padding-bottom: 0.4em;background-color: white;position: relative;}#sk-b9a5fcf0-ec17-4a0f-87f1-04c9f339292f div.sk-label label {font-family: monospace;font-weight: bold;background-color: white;display: inline-block;line-height: 1.2em;}#sk-b9a5fcf0-ec17-4a0f-87f1-04c9f339292f div.sk-label-container {position: relative;z-index: 2;text-align: center;}#sk-b9a5fcf0-ec17-4a0f-87f1-04c9f339292f div.sk-container {/* jupyter's `normalize.less` sets `[hidden] { display: none; }` but bootstrap.min.css set `[hidden] { display: none !important; }` so we also need the `!important` here to be able to override the default hidden behavior on the sphinx rendered scikit-learn.org. See: https://github.com/scikit-learn/scikit-learn/issues/21755 */display: inline-block !important;position: relative;}#sk-b9a5fcf0-ec17-4a0f-87f1-04c9f339292f div.sk-text-repr-fallback {display: none;}</style><div id=\"sk-b9a5fcf0-ec17-4a0f-87f1-04c9f339292f\" class=\"sk-top-container\"><div class=\"sk-text-repr-fallback\"><pre>RandomizedSearchCV(cv=5,\n",
              "                   estimator=Pipeline(steps=[(&#x27;preprocessing&#x27;,\n",
              "                                              ColumnTransformer(remainder=&#x27;passthrough&#x27;,\n",
              "                                                                transformers=[(&#x27;onehotencoder&#x27;,\n",
              "                                                                               OneHotEncoder(),\n",
              "                                                                               [&#x27;Sex&#x27;,\n",
              "                                                                                &#x27;Race&#x27;]),\n",
              "                                                                              (&#x27;ordinalencoder-1&#x27;,\n",
              "                                                                               OrdinalEncoder(categories=[[&#x27;18-24&#x27;,\n",
              "                                                                                                           &#x27;25-29&#x27;,\n",
              "                                                                                                           &#x27;30-34&#x27;,\n",
              "                                                                                                           &#x27;35-39&#x27;,\n",
              "                                                                                                           &#x27;40-44&#x27;,\n",
              "                                                                                                           &#x27;45-49&#x27;,\n",
              "                                                                                                           &#x27;50-54&#x27;,\n",
              "                                                                                                           &#x27;55-59&#x27;,\n",
              "                                                                                                           &#x27;60-64&#x27;,\n",
              "                                                                                                           &#x27;65-69&#x27;,\n",
              "                                                                                                           &#x27;70-74&#x27;,\n",
              "                                                                                                           &#x27;75-79&#x27;,\n",
              "                                                                                                           &#x27;80 &#x27;\n",
              "                                                                                                           &#x27;or &#x27;\n",
              "                                                                                                           &#x27;older&#x27;],\n",
              "                                                                                                          [&#x27;Poor&#x27;,\n",
              "                                                                                                           &#x27;Fair&#x27;,\n",
              "                                                                                                           &#x27;G...\n",
              "                   param_distributions=[{&#x27;classifier&#x27;: [LogisticRegression(penalty=&#x27;none&#x27;,\n",
              "                                                                           solver=&#x27;sag&#x27;)],\n",
              "                                         &#x27;classifier__penalty&#x27;: [&#x27;l1&#x27;, &#x27;l2&#x27;,\n",
              "                                                                 &#x27;elasticnet&#x27;,\n",
              "                                                                 &#x27;none&#x27;],\n",
              "                                         &#x27;classifier__solver&#x27;: [&#x27;newton-cg&#x27;,\n",
              "                                                                &#x27;lbfgs&#x27;,\n",
              "                                                                &#x27;liblinear&#x27;,\n",
              "                                                                &#x27;sag&#x27;,\n",
              "                                                                &#x27;saga&#x27;]},\n",
              "                                        {&#x27;classifier&#x27;: [RandomForestClassifier(random_state=1)],\n",
              "                                         &#x27;classifier__min_samples_leaf&#x27;: [1, 2],\n",
              "                                         &#x27;classifier__n_estimators&#x27;: [100,\n",
              "                                                                      200]}],\n",
              "                   random_state=1, scoring=&#x27;accuracy&#x27;)</pre><b>Please rerun this cell to show the HTML repr or trust the notebook.</b></div><div class=\"sk-container\" hidden><div class=\"sk-item sk-dashed-wrapped\"><div class=\"sk-label-container\"><div class=\"sk-label sk-toggleable\"><input class=\"sk-toggleable__control sk-hidden--visually\" id=\"8bcd0346-dd2e-4ae3-968a-8a7e03099f19\" type=\"checkbox\" ><label for=\"8bcd0346-dd2e-4ae3-968a-8a7e03099f19\" class=\"sk-toggleable__label sk-toggleable__label-arrow\">RandomizedSearchCV</label><div class=\"sk-toggleable__content\"><pre>RandomizedSearchCV(cv=5,\n",
              "                   estimator=Pipeline(steps=[(&#x27;preprocessing&#x27;,\n",
              "                                              ColumnTransformer(remainder=&#x27;passthrough&#x27;,\n",
              "                                                                transformers=[(&#x27;onehotencoder&#x27;,\n",
              "                                                                               OneHotEncoder(),\n",
              "                                                                               [&#x27;Sex&#x27;,\n",
              "                                                                                &#x27;Race&#x27;]),\n",
              "                                                                              (&#x27;ordinalencoder-1&#x27;,\n",
              "                                                                               OrdinalEncoder(categories=[[&#x27;18-24&#x27;,\n",
              "                                                                                                           &#x27;25-29&#x27;,\n",
              "                                                                                                           &#x27;30-34&#x27;,\n",
              "                                                                                                           &#x27;35-39&#x27;,\n",
              "                                                                                                           &#x27;40-44&#x27;,\n",
              "                                                                                                           &#x27;45-49&#x27;,\n",
              "                                                                                                           &#x27;50-54&#x27;,\n",
              "                                                                                                           &#x27;55-59&#x27;,\n",
              "                                                                                                           &#x27;60-64&#x27;,\n",
              "                                                                                                           &#x27;65-69&#x27;,\n",
              "                                                                                                           &#x27;70-74&#x27;,\n",
              "                                                                                                           &#x27;75-79&#x27;,\n",
              "                                                                                                           &#x27;80 &#x27;\n",
              "                                                                                                           &#x27;or &#x27;\n",
              "                                                                                                           &#x27;older&#x27;],\n",
              "                                                                                                          [&#x27;Poor&#x27;,\n",
              "                                                                                                           &#x27;Fair&#x27;,\n",
              "                                                                                                           &#x27;G...\n",
              "                   param_distributions=[{&#x27;classifier&#x27;: [LogisticRegression(penalty=&#x27;none&#x27;,\n",
              "                                                                           solver=&#x27;sag&#x27;)],\n",
              "                                         &#x27;classifier__penalty&#x27;: [&#x27;l1&#x27;, &#x27;l2&#x27;,\n",
              "                                                                 &#x27;elasticnet&#x27;,\n",
              "                                                                 &#x27;none&#x27;],\n",
              "                                         &#x27;classifier__solver&#x27;: [&#x27;newton-cg&#x27;,\n",
              "                                                                &#x27;lbfgs&#x27;,\n",
              "                                                                &#x27;liblinear&#x27;,\n",
              "                                                                &#x27;sag&#x27;,\n",
              "                                                                &#x27;saga&#x27;]},\n",
              "                                        {&#x27;classifier&#x27;: [RandomForestClassifier(random_state=1)],\n",
              "                                         &#x27;classifier__min_samples_leaf&#x27;: [1, 2],\n",
              "                                         &#x27;classifier__n_estimators&#x27;: [100,\n",
              "                                                                      200]}],\n",
              "                   random_state=1, scoring=&#x27;accuracy&#x27;)</pre></div></div></div><div class=\"sk-parallel\"><div class=\"sk-parallel-item\"><div class=\"sk-item\"><div class=\"sk-serial\"><div class=\"sk-item\"><div class=\"sk-serial\"><div class=\"sk-item sk-dashed-wrapped\"><div class=\"sk-label-container\"><div class=\"sk-label sk-toggleable\"><input class=\"sk-toggleable__control sk-hidden--visually\" id=\"5224e083-97a2-4325-b7cd-bef332185d80\" type=\"checkbox\" ><label for=\"5224e083-97a2-4325-b7cd-bef332185d80\" class=\"sk-toggleable__label sk-toggleable__label-arrow\">preprocessing: ColumnTransformer</label><div class=\"sk-toggleable__content\"><pre>ColumnTransformer(remainder=&#x27;passthrough&#x27;,\n",
              "                  transformers=[(&#x27;onehotencoder&#x27;, OneHotEncoder(),\n",
              "                                 [&#x27;Sex&#x27;, &#x27;Race&#x27;]),\n",
              "                                (&#x27;ordinalencoder-1&#x27;,\n",
              "                                 OrdinalEncoder(categories=[[&#x27;18-24&#x27;, &#x27;25-29&#x27;,\n",
              "                                                             &#x27;30-34&#x27;, &#x27;35-39&#x27;,\n",
              "                                                             &#x27;40-44&#x27;, &#x27;45-49&#x27;,\n",
              "                                                             &#x27;50-54&#x27;, &#x27;55-59&#x27;,\n",
              "                                                             &#x27;60-64&#x27;, &#x27;65-69&#x27;,\n",
              "                                                             &#x27;70-74&#x27;, &#x27;75-79&#x27;,\n",
              "                                                             &#x27;80 or older&#x27;],\n",
              "                                                            [&#x27;Poor&#x27;, &#x27;Fair&#x27;,\n",
              "                                                             &#x27;Good&#x27;,\n",
              "                                                             &#x27;Very good&#x27;,\n",
              "                                                             &#x27;Excellent&#x27;]]),\n",
              "                                 [&#x27;AgeCategory&#x27;, &#x27;GenHealth&#x27;]),\n",
              "                                (&#x27;ordinalencoder-2&#x27;, OrdinalEncoder(),\n",
              "                                 [&#x27;Smoking&#x27;, &#x27;AlcoholDrinking&#x27;, &#x27;Stroke&#x27;,\n",
              "                                  &#x27;DiffWalking&#x27;, &#x27;Diabetic&#x27;, &#x27;PhysicalActivity&#x27;,\n",
              "                                  &#x27;Asthma&#x27;, &#x27;KidneyDisease&#x27;, &#x27;SkinCancer&#x27;])])</pre></div></div></div><div class=\"sk-parallel\"><div class=\"sk-parallel-item\"><div class=\"sk-item\"><div class=\"sk-label-container\"><div class=\"sk-label sk-toggleable\"><input class=\"sk-toggleable__control sk-hidden--visually\" id=\"13d88280-a9be-4c05-bb33-8e5ea0ca93e7\" type=\"checkbox\" ><label for=\"13d88280-a9be-4c05-bb33-8e5ea0ca93e7\" class=\"sk-toggleable__label sk-toggleable__label-arrow\">onehotencoder</label><div class=\"sk-toggleable__content\"><pre>[&#x27;Sex&#x27;, &#x27;Race&#x27;]</pre></div></div></div><div class=\"sk-serial\"><div class=\"sk-item\"><div class=\"sk-estimator sk-toggleable\"><input class=\"sk-toggleable__control sk-hidden--visually\" id=\"1afbf972-5c6a-4ce1-88c8-20efd0533ad7\" type=\"checkbox\" ><label for=\"1afbf972-5c6a-4ce1-88c8-20efd0533ad7\" class=\"sk-toggleable__label sk-toggleable__label-arrow\">OneHotEncoder</label><div class=\"sk-toggleable__content\"><pre>OneHotEncoder()</pre></div></div></div></div></div></div><div class=\"sk-parallel-item\"><div class=\"sk-item\"><div class=\"sk-label-container\"><div class=\"sk-label sk-toggleable\"><input class=\"sk-toggleable__control sk-hidden--visually\" id=\"31ea81cf-6ec0-475f-b074-cba77a68b477\" type=\"checkbox\" ><label for=\"31ea81cf-6ec0-475f-b074-cba77a68b477\" class=\"sk-toggleable__label sk-toggleable__label-arrow\">ordinalencoder-1</label><div class=\"sk-toggleable__content\"><pre>[&#x27;AgeCategory&#x27;, &#x27;GenHealth&#x27;]</pre></div></div></div><div class=\"sk-serial\"><div class=\"sk-item\"><div class=\"sk-estimator sk-toggleable\"><input class=\"sk-toggleable__control sk-hidden--visually\" id=\"6b2a9676-4bd6-4108-8260-5cff63c0526b\" type=\"checkbox\" ><label for=\"6b2a9676-4bd6-4108-8260-5cff63c0526b\" class=\"sk-toggleable__label sk-toggleable__label-arrow\">OrdinalEncoder</label><div class=\"sk-toggleable__content\"><pre>OrdinalEncoder(categories=[[&#x27;18-24&#x27;, &#x27;25-29&#x27;, &#x27;30-34&#x27;, &#x27;35-39&#x27;, &#x27;40-44&#x27;,\n",
              "                            &#x27;45-49&#x27;, &#x27;50-54&#x27;, &#x27;55-59&#x27;, &#x27;60-64&#x27;, &#x27;65-69&#x27;,\n",
              "                            &#x27;70-74&#x27;, &#x27;75-79&#x27;, &#x27;80 or older&#x27;],\n",
              "                           [&#x27;Poor&#x27;, &#x27;Fair&#x27;, &#x27;Good&#x27;, &#x27;Very good&#x27;, &#x27;Excellent&#x27;]])</pre></div></div></div></div></div></div><div class=\"sk-parallel-item\"><div class=\"sk-item\"><div class=\"sk-label-container\"><div class=\"sk-label sk-toggleable\"><input class=\"sk-toggleable__control sk-hidden--visually\" id=\"478fe7c5-725a-40e5-ac24-8b5e471a459f\" type=\"checkbox\" ><label for=\"478fe7c5-725a-40e5-ac24-8b5e471a459f\" class=\"sk-toggleable__label sk-toggleable__label-arrow\">ordinalencoder-2</label><div class=\"sk-toggleable__content\"><pre>[&#x27;Smoking&#x27;, &#x27;AlcoholDrinking&#x27;, &#x27;Stroke&#x27;, &#x27;DiffWalking&#x27;, &#x27;Diabetic&#x27;, &#x27;PhysicalActivity&#x27;, &#x27;Asthma&#x27;, &#x27;KidneyDisease&#x27;, &#x27;SkinCancer&#x27;]</pre></div></div></div><div class=\"sk-serial\"><div class=\"sk-item\"><div class=\"sk-estimator sk-toggleable\"><input class=\"sk-toggleable__control sk-hidden--visually\" id=\"5df692de-914b-489d-b981-60b2e7a7ebef\" type=\"checkbox\" ><label for=\"5df692de-914b-489d-b981-60b2e7a7ebef\" class=\"sk-toggleable__label sk-toggleable__label-arrow\">OrdinalEncoder</label><div class=\"sk-toggleable__content\"><pre>OrdinalEncoder()</pre></div></div></div></div></div></div><div class=\"sk-parallel-item\"><div class=\"sk-item\"><div class=\"sk-label-container\"><div class=\"sk-label sk-toggleable\"><input class=\"sk-toggleable__control sk-hidden--visually\" id=\"1356431e-992f-48af-8a5f-ed2f10e2d766\" type=\"checkbox\" ><label for=\"1356431e-992f-48af-8a5f-ed2f10e2d766\" class=\"sk-toggleable__label sk-toggleable__label-arrow\">remainder</label><div class=\"sk-toggleable__content\"><pre>[&#x27;BMI&#x27;, &#x27;PhysicalHealth&#x27;, &#x27;MentalHealth&#x27;, &#x27;SleepTime&#x27;]</pre></div></div></div><div class=\"sk-serial\"><div class=\"sk-item\"><div class=\"sk-estimator sk-toggleable\"><input class=\"sk-toggleable__control sk-hidden--visually\" id=\"2612dbfe-635b-41d2-8e59-bff67e941261\" type=\"checkbox\" ><label for=\"2612dbfe-635b-41d2-8e59-bff67e941261\" class=\"sk-toggleable__label sk-toggleable__label-arrow\">passthrough</label><div class=\"sk-toggleable__content\"><pre>passthrough</pre></div></div></div></div></div></div></div></div><div class=\"sk-item\"><div class=\"sk-estimator sk-toggleable\"><input class=\"sk-toggleable__control sk-hidden--visually\" id=\"94b49b5a-396b-4099-9095-238ac7bf267a\" type=\"checkbox\" ><label for=\"94b49b5a-396b-4099-9095-238ac7bf267a\" class=\"sk-toggleable__label sk-toggleable__label-arrow\">StandardScaler</label><div class=\"sk-toggleable__content\"><pre>StandardScaler()</pre></div></div></div><div class=\"sk-item\"><div class=\"sk-estimator sk-toggleable\"><input class=\"sk-toggleable__control sk-hidden--visually\" id=\"71935854-c836-4dbf-8f99-675f20faba8b\" type=\"checkbox\" ><label for=\"71935854-c836-4dbf-8f99-675f20faba8b\" class=\"sk-toggleable__label sk-toggleable__label-arrow\">PCA</label><div class=\"sk-toggleable__content\"><pre>PCA(n_components=0.9)</pre></div></div></div><div class=\"sk-item\"><div class=\"sk-estimator sk-toggleable\"><input class=\"sk-toggleable__control sk-hidden--visually\" id=\"e89bd92c-fbc7-4827-9fe2-35703e23ffa1\" type=\"checkbox\" ><label for=\"e89bd92c-fbc7-4827-9fe2-35703e23ffa1\" class=\"sk-toggleable__label sk-toggleable__label-arrow\">LogisticRegression</label><div class=\"sk-toggleable__content\"><pre>LogisticRegression(penalty=&#x27;none&#x27;, solver=&#x27;sag&#x27;)</pre></div></div></div></div></div></div></div></div></div></div></div></div>"
            ],
            "text/plain": [
              "RandomizedSearchCV(cv=5,\n",
              "                   estimator=Pipeline(steps=[('preprocessing',\n",
              "                                              ColumnTransformer(remainder='passthrough',\n",
              "                                                                transformers=[('onehotencoder',\n",
              "                                                                               OneHotEncoder(),\n",
              "                                                                               ['Sex',\n",
              "                                                                                'Race']),\n",
              "                                                                              ('ordinalencoder-1',\n",
              "                                                                               OrdinalEncoder(categories=[['18-24',\n",
              "                                                                                                           '25-29',\n",
              "                                                                                                           '30-34',\n",
              "                                                                                                           '35-39',\n",
              "                                                                                                           '40-44',\n",
              "                                                                                                           '45-49',\n",
              "                                                                                                           '50-54',\n",
              "                                                                                                           '55-59',\n",
              "                                                                                                           '60-64',\n",
              "                                                                                                           '65-69',\n",
              "                                                                                                           '70-74',\n",
              "                                                                                                           '75-79',\n",
              "                                                                                                           '80 '\n",
              "                                                                                                           'or '\n",
              "                                                                                                           'older'],\n",
              "                                                                                                          ['Poor',\n",
              "                                                                                                           'Fair',\n",
              "                                                                                                           'G...\n",
              "                   param_distributions=[{'classifier': [LogisticRegression(penalty='none',\n",
              "                                                                           solver='sag')],\n",
              "                                         'classifier__penalty': ['l1', 'l2',\n",
              "                                                                 'elasticnet',\n",
              "                                                                 'none'],\n",
              "                                         'classifier__solver': ['newton-cg',\n",
              "                                                                'lbfgs',\n",
              "                                                                'liblinear',\n",
              "                                                                'sag',\n",
              "                                                                'saga']},\n",
              "                                        {'classifier': [RandomForestClassifier(random_state=1)],\n",
              "                                         'classifier__min_samples_leaf': [1, 2],\n",
              "                                         'classifier__n_estimators': [100,\n",
              "                                                                      200]}],\n",
              "                   random_state=1, scoring='accuracy')"
            ]
          },
          "metadata": {},
          "execution_count": 66
        }
      ]
    },
    {
      "cell_type": "code",
      "source": [
        "# Display Pipeline\n",
        "from sklearn import set_config\n",
        "set_config(display='diagram')\n",
        "#fit data\n",
        "pipe.fit(X_train,y_train)"
      ],
      "metadata": {
        "colab": {
          "base_uri": "https://localhost:8080/",
          "height": 265
        },
        "id": "iA1yS70qihJA",
        "outputId": "5141b5ef-a4d7-4152-ffd6-4c454ab2081c"
      },
      "execution_count": 67,
      "outputs": [
        {
          "output_type": "execute_result",
          "data": {
            "text/html": [
              "<style>#sk-37269560-321a-4d07-9c5e-4993e36ee8dc {color: black;background-color: white;}#sk-37269560-321a-4d07-9c5e-4993e36ee8dc pre{padding: 0;}#sk-37269560-321a-4d07-9c5e-4993e36ee8dc div.sk-toggleable {background-color: white;}#sk-37269560-321a-4d07-9c5e-4993e36ee8dc label.sk-toggleable__label {cursor: pointer;display: block;width: 100%;margin-bottom: 0;padding: 0.3em;box-sizing: border-box;text-align: center;}#sk-37269560-321a-4d07-9c5e-4993e36ee8dc label.sk-toggleable__label-arrow:before {content: \"▸\";float: left;margin-right: 0.25em;color: #696969;}#sk-37269560-321a-4d07-9c5e-4993e36ee8dc label.sk-toggleable__label-arrow:hover:before {color: black;}#sk-37269560-321a-4d07-9c5e-4993e36ee8dc div.sk-estimator:hover label.sk-toggleable__label-arrow:before {color: black;}#sk-37269560-321a-4d07-9c5e-4993e36ee8dc div.sk-toggleable__content {max-height: 0;max-width: 0;overflow: hidden;text-align: left;background-color: #f0f8ff;}#sk-37269560-321a-4d07-9c5e-4993e36ee8dc div.sk-toggleable__content pre {margin: 0.2em;color: black;border-radius: 0.25em;background-color: #f0f8ff;}#sk-37269560-321a-4d07-9c5e-4993e36ee8dc input.sk-toggleable__control:checked~div.sk-toggleable__content {max-height: 200px;max-width: 100%;overflow: auto;}#sk-37269560-321a-4d07-9c5e-4993e36ee8dc input.sk-toggleable__control:checked~label.sk-toggleable__label-arrow:before {content: \"▾\";}#sk-37269560-321a-4d07-9c5e-4993e36ee8dc div.sk-estimator input.sk-toggleable__control:checked~label.sk-toggleable__label {background-color: #d4ebff;}#sk-37269560-321a-4d07-9c5e-4993e36ee8dc div.sk-label input.sk-toggleable__control:checked~label.sk-toggleable__label {background-color: #d4ebff;}#sk-37269560-321a-4d07-9c5e-4993e36ee8dc input.sk-hidden--visually {border: 0;clip: rect(1px 1px 1px 1px);clip: rect(1px, 1px, 1px, 1px);height: 1px;margin: -1px;overflow: hidden;padding: 0;position: absolute;width: 1px;}#sk-37269560-321a-4d07-9c5e-4993e36ee8dc div.sk-estimator {font-family: monospace;background-color: #f0f8ff;border: 1px dotted black;border-radius: 0.25em;box-sizing: border-box;margin-bottom: 0.5em;}#sk-37269560-321a-4d07-9c5e-4993e36ee8dc div.sk-estimator:hover {background-color: #d4ebff;}#sk-37269560-321a-4d07-9c5e-4993e36ee8dc div.sk-parallel-item::after {content: \"\";width: 100%;border-bottom: 1px solid gray;flex-grow: 1;}#sk-37269560-321a-4d07-9c5e-4993e36ee8dc div.sk-label:hover label.sk-toggleable__label {background-color: #d4ebff;}#sk-37269560-321a-4d07-9c5e-4993e36ee8dc div.sk-serial::before {content: \"\";position: absolute;border-left: 1px solid gray;box-sizing: border-box;top: 2em;bottom: 0;left: 50%;}#sk-37269560-321a-4d07-9c5e-4993e36ee8dc div.sk-serial {display: flex;flex-direction: column;align-items: center;background-color: white;padding-right: 0.2em;padding-left: 0.2em;}#sk-37269560-321a-4d07-9c5e-4993e36ee8dc div.sk-item {z-index: 1;}#sk-37269560-321a-4d07-9c5e-4993e36ee8dc div.sk-parallel {display: flex;align-items: stretch;justify-content: center;background-color: white;}#sk-37269560-321a-4d07-9c5e-4993e36ee8dc div.sk-parallel::before {content: \"\";position: absolute;border-left: 1px solid gray;box-sizing: border-box;top: 2em;bottom: 0;left: 50%;}#sk-37269560-321a-4d07-9c5e-4993e36ee8dc div.sk-parallel-item {display: flex;flex-direction: column;position: relative;background-color: white;}#sk-37269560-321a-4d07-9c5e-4993e36ee8dc div.sk-parallel-item:first-child::after {align-self: flex-end;width: 50%;}#sk-37269560-321a-4d07-9c5e-4993e36ee8dc div.sk-parallel-item:last-child::after {align-self: flex-start;width: 50%;}#sk-37269560-321a-4d07-9c5e-4993e36ee8dc div.sk-parallel-item:only-child::after {width: 0;}#sk-37269560-321a-4d07-9c5e-4993e36ee8dc div.sk-dashed-wrapped {border: 1px dashed gray;margin: 0 0.4em 0.5em 0.4em;box-sizing: border-box;padding-bottom: 0.4em;background-color: white;position: relative;}#sk-37269560-321a-4d07-9c5e-4993e36ee8dc div.sk-label label {font-family: monospace;font-weight: bold;background-color: white;display: inline-block;line-height: 1.2em;}#sk-37269560-321a-4d07-9c5e-4993e36ee8dc div.sk-label-container {position: relative;z-index: 2;text-align: center;}#sk-37269560-321a-4d07-9c5e-4993e36ee8dc div.sk-container {/* jupyter's `normalize.less` sets `[hidden] { display: none; }` but bootstrap.min.css set `[hidden] { display: none !important; }` so we also need the `!important` here to be able to override the default hidden behavior on the sphinx rendered scikit-learn.org. See: https://github.com/scikit-learn/scikit-learn/issues/21755 */display: inline-block !important;position: relative;}#sk-37269560-321a-4d07-9c5e-4993e36ee8dc div.sk-text-repr-fallback {display: none;}</style><div id=\"sk-37269560-321a-4d07-9c5e-4993e36ee8dc\" class=\"sk-top-container\"><div class=\"sk-text-repr-fallback\"><pre>Pipeline(steps=[(&#x27;preprocessing&#x27;,\n",
              "                 ColumnTransformer(remainder=&#x27;passthrough&#x27;,\n",
              "                                   transformers=[(&#x27;onehotencoder&#x27;,\n",
              "                                                  OneHotEncoder(),\n",
              "                                                  [&#x27;Sex&#x27;, &#x27;Race&#x27;]),\n",
              "                                                 (&#x27;ordinalencoder-1&#x27;,\n",
              "                                                  OrdinalEncoder(categories=[[&#x27;18-24&#x27;,\n",
              "                                                                              &#x27;25-29&#x27;,\n",
              "                                                                              &#x27;30-34&#x27;,\n",
              "                                                                              &#x27;35-39&#x27;,\n",
              "                                                                              &#x27;40-44&#x27;,\n",
              "                                                                              &#x27;45-49&#x27;,\n",
              "                                                                              &#x27;50-54&#x27;,\n",
              "                                                                              &#x27;55-59&#x27;,\n",
              "                                                                              &#x27;60-64&#x27;,\n",
              "                                                                              &#x27;65-69&#x27;,\n",
              "                                                                              &#x27;70-74&#x27;,\n",
              "                                                                              &#x27;75-79&#x27;,\n",
              "                                                                              &#x27;80 &#x27;\n",
              "                                                                              &#x27;or &#x27;\n",
              "                                                                              &#x27;older&#x27;],\n",
              "                                                                             [&#x27;Poor&#x27;,\n",
              "                                                                              &#x27;Fair&#x27;,\n",
              "                                                                              &#x27;Good&#x27;,\n",
              "                                                                              &#x27;Very &#x27;\n",
              "                                                                              &#x27;good&#x27;,\n",
              "                                                                              &#x27;Excellent&#x27;]]),\n",
              "                                                  [&#x27;AgeCategory&#x27;, &#x27;GenHealth&#x27;]),\n",
              "                                                 (&#x27;ordinalencoder-2&#x27;,\n",
              "                                                  OrdinalEncoder(),\n",
              "                                                  [&#x27;Smoking&#x27;, &#x27;AlcoholDrinking&#x27;,\n",
              "                                                   &#x27;Stroke&#x27;, &#x27;DiffWalking&#x27;,\n",
              "                                                   &#x27;Diabetic&#x27;,\n",
              "                                                   &#x27;PhysicalActivity&#x27;, &#x27;Asthma&#x27;,\n",
              "                                                   &#x27;KidneyDisease&#x27;,\n",
              "                                                   &#x27;SkinCancer&#x27;])])),\n",
              "                (&#x27;standardscaler&#x27;, StandardScaler()),\n",
              "                (&#x27;pca&#x27;, PCA(n_components=0.9)),\n",
              "                (&#x27;classifier&#x27;,\n",
              "                 LogisticRegression(penalty=&#x27;none&#x27;, solver=&#x27;sag&#x27;))])</pre><b>Please rerun this cell to show the HTML repr or trust the notebook.</b></div><div class=\"sk-container\" hidden><div class=\"sk-item sk-dashed-wrapped\"><div class=\"sk-label-container\"><div class=\"sk-label sk-toggleable\"><input class=\"sk-toggleable__control sk-hidden--visually\" id=\"3bb01c8d-981a-43ec-9439-aae476541325\" type=\"checkbox\" ><label for=\"3bb01c8d-981a-43ec-9439-aae476541325\" class=\"sk-toggleable__label sk-toggleable__label-arrow\">Pipeline</label><div class=\"sk-toggleable__content\"><pre>Pipeline(steps=[(&#x27;preprocessing&#x27;,\n",
              "                 ColumnTransformer(remainder=&#x27;passthrough&#x27;,\n",
              "                                   transformers=[(&#x27;onehotencoder&#x27;,\n",
              "                                                  OneHotEncoder(),\n",
              "                                                  [&#x27;Sex&#x27;, &#x27;Race&#x27;]),\n",
              "                                                 (&#x27;ordinalencoder-1&#x27;,\n",
              "                                                  OrdinalEncoder(categories=[[&#x27;18-24&#x27;,\n",
              "                                                                              &#x27;25-29&#x27;,\n",
              "                                                                              &#x27;30-34&#x27;,\n",
              "                                                                              &#x27;35-39&#x27;,\n",
              "                                                                              &#x27;40-44&#x27;,\n",
              "                                                                              &#x27;45-49&#x27;,\n",
              "                                                                              &#x27;50-54&#x27;,\n",
              "                                                                              &#x27;55-59&#x27;,\n",
              "                                                                              &#x27;60-64&#x27;,\n",
              "                                                                              &#x27;65-69&#x27;,\n",
              "                                                                              &#x27;70-74&#x27;,\n",
              "                                                                              &#x27;75-79&#x27;,\n",
              "                                                                              &#x27;80 &#x27;\n",
              "                                                                              &#x27;or &#x27;\n",
              "                                                                              &#x27;older&#x27;],\n",
              "                                                                             [&#x27;Poor&#x27;,\n",
              "                                                                              &#x27;Fair&#x27;,\n",
              "                                                                              &#x27;Good&#x27;,\n",
              "                                                                              &#x27;Very &#x27;\n",
              "                                                                              &#x27;good&#x27;,\n",
              "                                                                              &#x27;Excellent&#x27;]]),\n",
              "                                                  [&#x27;AgeCategory&#x27;, &#x27;GenHealth&#x27;]),\n",
              "                                                 (&#x27;ordinalencoder-2&#x27;,\n",
              "                                                  OrdinalEncoder(),\n",
              "                                                  [&#x27;Smoking&#x27;, &#x27;AlcoholDrinking&#x27;,\n",
              "                                                   &#x27;Stroke&#x27;, &#x27;DiffWalking&#x27;,\n",
              "                                                   &#x27;Diabetic&#x27;,\n",
              "                                                   &#x27;PhysicalActivity&#x27;, &#x27;Asthma&#x27;,\n",
              "                                                   &#x27;KidneyDisease&#x27;,\n",
              "                                                   &#x27;SkinCancer&#x27;])])),\n",
              "                (&#x27;standardscaler&#x27;, StandardScaler()),\n",
              "                (&#x27;pca&#x27;, PCA(n_components=0.9)),\n",
              "                (&#x27;classifier&#x27;,\n",
              "                 LogisticRegression(penalty=&#x27;none&#x27;, solver=&#x27;sag&#x27;))])</pre></div></div></div><div class=\"sk-serial\"><div class=\"sk-item sk-dashed-wrapped\"><div class=\"sk-label-container\"><div class=\"sk-label sk-toggleable\"><input class=\"sk-toggleable__control sk-hidden--visually\" id=\"556651d2-487c-4751-9348-1702e2b54ff1\" type=\"checkbox\" ><label for=\"556651d2-487c-4751-9348-1702e2b54ff1\" class=\"sk-toggleable__label sk-toggleable__label-arrow\">preprocessing: ColumnTransformer</label><div class=\"sk-toggleable__content\"><pre>ColumnTransformer(remainder=&#x27;passthrough&#x27;,\n",
              "                  transformers=[(&#x27;onehotencoder&#x27;, OneHotEncoder(),\n",
              "                                 [&#x27;Sex&#x27;, &#x27;Race&#x27;]),\n",
              "                                (&#x27;ordinalencoder-1&#x27;,\n",
              "                                 OrdinalEncoder(categories=[[&#x27;18-24&#x27;, &#x27;25-29&#x27;,\n",
              "                                                             &#x27;30-34&#x27;, &#x27;35-39&#x27;,\n",
              "                                                             &#x27;40-44&#x27;, &#x27;45-49&#x27;,\n",
              "                                                             &#x27;50-54&#x27;, &#x27;55-59&#x27;,\n",
              "                                                             &#x27;60-64&#x27;, &#x27;65-69&#x27;,\n",
              "                                                             &#x27;70-74&#x27;, &#x27;75-79&#x27;,\n",
              "                                                             &#x27;80 or older&#x27;],\n",
              "                                                            [&#x27;Poor&#x27;, &#x27;Fair&#x27;,\n",
              "                                                             &#x27;Good&#x27;,\n",
              "                                                             &#x27;Very good&#x27;,\n",
              "                                                             &#x27;Excellent&#x27;]]),\n",
              "                                 [&#x27;AgeCategory&#x27;, &#x27;GenHealth&#x27;]),\n",
              "                                (&#x27;ordinalencoder-2&#x27;, OrdinalEncoder(),\n",
              "                                 [&#x27;Smoking&#x27;, &#x27;AlcoholDrinking&#x27;, &#x27;Stroke&#x27;,\n",
              "                                  &#x27;DiffWalking&#x27;, &#x27;Diabetic&#x27;, &#x27;PhysicalActivity&#x27;,\n",
              "                                  &#x27;Asthma&#x27;, &#x27;KidneyDisease&#x27;, &#x27;SkinCancer&#x27;])])</pre></div></div></div><div class=\"sk-parallel\"><div class=\"sk-parallel-item\"><div class=\"sk-item\"><div class=\"sk-label-container\"><div class=\"sk-label sk-toggleable\"><input class=\"sk-toggleable__control sk-hidden--visually\" id=\"a8030d98-d77f-4596-bf0b-8746f04dcebf\" type=\"checkbox\" ><label for=\"a8030d98-d77f-4596-bf0b-8746f04dcebf\" class=\"sk-toggleable__label sk-toggleable__label-arrow\">onehotencoder</label><div class=\"sk-toggleable__content\"><pre>[&#x27;Sex&#x27;, &#x27;Race&#x27;]</pre></div></div></div><div class=\"sk-serial\"><div class=\"sk-item\"><div class=\"sk-estimator sk-toggleable\"><input class=\"sk-toggleable__control sk-hidden--visually\" id=\"0c81a0ae-b39f-4a90-817b-2c74822c7ac6\" type=\"checkbox\" ><label for=\"0c81a0ae-b39f-4a90-817b-2c74822c7ac6\" class=\"sk-toggleable__label sk-toggleable__label-arrow\">OneHotEncoder</label><div class=\"sk-toggleable__content\"><pre>OneHotEncoder()</pre></div></div></div></div></div></div><div class=\"sk-parallel-item\"><div class=\"sk-item\"><div class=\"sk-label-container\"><div class=\"sk-label sk-toggleable\"><input class=\"sk-toggleable__control sk-hidden--visually\" id=\"4878f40f-2db4-4564-a5cb-9555be093c40\" type=\"checkbox\" ><label for=\"4878f40f-2db4-4564-a5cb-9555be093c40\" class=\"sk-toggleable__label sk-toggleable__label-arrow\">ordinalencoder-1</label><div class=\"sk-toggleable__content\"><pre>[&#x27;AgeCategory&#x27;, &#x27;GenHealth&#x27;]</pre></div></div></div><div class=\"sk-serial\"><div class=\"sk-item\"><div class=\"sk-estimator sk-toggleable\"><input class=\"sk-toggleable__control sk-hidden--visually\" id=\"10944aa8-c483-4011-a7c1-082470b64b63\" type=\"checkbox\" ><label for=\"10944aa8-c483-4011-a7c1-082470b64b63\" class=\"sk-toggleable__label sk-toggleable__label-arrow\">OrdinalEncoder</label><div class=\"sk-toggleable__content\"><pre>OrdinalEncoder(categories=[[&#x27;18-24&#x27;, &#x27;25-29&#x27;, &#x27;30-34&#x27;, &#x27;35-39&#x27;, &#x27;40-44&#x27;,\n",
              "                            &#x27;45-49&#x27;, &#x27;50-54&#x27;, &#x27;55-59&#x27;, &#x27;60-64&#x27;, &#x27;65-69&#x27;,\n",
              "                            &#x27;70-74&#x27;, &#x27;75-79&#x27;, &#x27;80 or older&#x27;],\n",
              "                           [&#x27;Poor&#x27;, &#x27;Fair&#x27;, &#x27;Good&#x27;, &#x27;Very good&#x27;, &#x27;Excellent&#x27;]])</pre></div></div></div></div></div></div><div class=\"sk-parallel-item\"><div class=\"sk-item\"><div class=\"sk-label-container\"><div class=\"sk-label sk-toggleable\"><input class=\"sk-toggleable__control sk-hidden--visually\" id=\"92b445b4-56dd-4933-88e0-591c76c17d04\" type=\"checkbox\" ><label for=\"92b445b4-56dd-4933-88e0-591c76c17d04\" class=\"sk-toggleable__label sk-toggleable__label-arrow\">ordinalencoder-2</label><div class=\"sk-toggleable__content\"><pre>[&#x27;Smoking&#x27;, &#x27;AlcoholDrinking&#x27;, &#x27;Stroke&#x27;, &#x27;DiffWalking&#x27;, &#x27;Diabetic&#x27;, &#x27;PhysicalActivity&#x27;, &#x27;Asthma&#x27;, &#x27;KidneyDisease&#x27;, &#x27;SkinCancer&#x27;]</pre></div></div></div><div class=\"sk-serial\"><div class=\"sk-item\"><div class=\"sk-estimator sk-toggleable\"><input class=\"sk-toggleable__control sk-hidden--visually\" id=\"f100fdeb-f3c3-4191-8050-0f1be6aecb02\" type=\"checkbox\" ><label for=\"f100fdeb-f3c3-4191-8050-0f1be6aecb02\" class=\"sk-toggleable__label sk-toggleable__label-arrow\">OrdinalEncoder</label><div class=\"sk-toggleable__content\"><pre>OrdinalEncoder()</pre></div></div></div></div></div></div><div class=\"sk-parallel-item\"><div class=\"sk-item\"><div class=\"sk-label-container\"><div class=\"sk-label sk-toggleable\"><input class=\"sk-toggleable__control sk-hidden--visually\" id=\"c7035be8-9290-4b98-a752-57339b94395f\" type=\"checkbox\" ><label for=\"c7035be8-9290-4b98-a752-57339b94395f\" class=\"sk-toggleable__label sk-toggleable__label-arrow\">remainder</label><div class=\"sk-toggleable__content\"><pre>[&#x27;BMI&#x27;, &#x27;PhysicalHealth&#x27;, &#x27;MentalHealth&#x27;, &#x27;SleepTime&#x27;]</pre></div></div></div><div class=\"sk-serial\"><div class=\"sk-item\"><div class=\"sk-estimator sk-toggleable\"><input class=\"sk-toggleable__control sk-hidden--visually\" id=\"8b1b3072-cf9b-4751-b069-37d6ae23f3c2\" type=\"checkbox\" ><label for=\"8b1b3072-cf9b-4751-b069-37d6ae23f3c2\" class=\"sk-toggleable__label sk-toggleable__label-arrow\">passthrough</label><div class=\"sk-toggleable__content\"><pre>passthrough</pre></div></div></div></div></div></div></div></div><div class=\"sk-item\"><div class=\"sk-estimator sk-toggleable\"><input class=\"sk-toggleable__control sk-hidden--visually\" id=\"e39ebcb2-557a-4046-a143-6b518065d825\" type=\"checkbox\" ><label for=\"e39ebcb2-557a-4046-a143-6b518065d825\" class=\"sk-toggleable__label sk-toggleable__label-arrow\">StandardScaler</label><div class=\"sk-toggleable__content\"><pre>StandardScaler()</pre></div></div></div><div class=\"sk-item\"><div class=\"sk-estimator sk-toggleable\"><input class=\"sk-toggleable__control sk-hidden--visually\" id=\"ff6bc601-214f-4bc6-b977-ae10b5533cf5\" type=\"checkbox\" ><label for=\"ff6bc601-214f-4bc6-b977-ae10b5533cf5\" class=\"sk-toggleable__label sk-toggleable__label-arrow\">PCA</label><div class=\"sk-toggleable__content\"><pre>PCA(n_components=0.9)</pre></div></div></div><div class=\"sk-item\"><div class=\"sk-estimator sk-toggleable\"><input class=\"sk-toggleable__control sk-hidden--visually\" id=\"878382df-9efb-44a8-b714-ecdf81756bb8\" type=\"checkbox\" ><label for=\"878382df-9efb-44a8-b714-ecdf81756bb8\" class=\"sk-toggleable__label sk-toggleable__label-arrow\">LogisticRegression</label><div class=\"sk-toggleable__content\"><pre>LogisticRegression(penalty=&#x27;none&#x27;, solver=&#x27;sag&#x27;)</pre></div></div></div></div></div></div></div>"
            ],
            "text/plain": [
              "Pipeline(steps=[('preprocessing',\n",
              "                 ColumnTransformer(remainder='passthrough',\n",
              "                                   transformers=[('onehotencoder',\n",
              "                                                  OneHotEncoder(),\n",
              "                                                  ['Sex', 'Race']),\n",
              "                                                 ('ordinalencoder-1',\n",
              "                                                  OrdinalEncoder(categories=[['18-24',\n",
              "                                                                              '25-29',\n",
              "                                                                              '30-34',\n",
              "                                                                              '35-39',\n",
              "                                                                              '40-44',\n",
              "                                                                              '45-49',\n",
              "                                                                              '50-54',\n",
              "                                                                              '55-59',\n",
              "                                                                              '60-64',\n",
              "                                                                              '65-69',\n",
              "                                                                              '70-74',\n",
              "                                                                              '75-79',\n",
              "                                                                              '80 '\n",
              "                                                                              'or '\n",
              "                                                                              'older'],\n",
              "                                                                             ['Poor',\n",
              "                                                                              'Fair',\n",
              "                                                                              'Good',\n",
              "                                                                              'Very '\n",
              "                                                                              'good',\n",
              "                                                                              'Excellent']]),\n",
              "                                                  ['AgeCategory', 'GenHealth']),\n",
              "                                                 ('ordinalencoder-2',\n",
              "                                                  OrdinalEncoder(),\n",
              "                                                  ['Smoking', 'AlcoholDrinking',\n",
              "                                                   'Stroke', 'DiffWalking',\n",
              "                                                   'Diabetic',\n",
              "                                                   'PhysicalActivity', 'Asthma',\n",
              "                                                   'KidneyDisease',\n",
              "                                                   'SkinCancer'])])),\n",
              "                ('standardscaler', StandardScaler()),\n",
              "                ('pca', PCA(n_components=0.9)),\n",
              "                ('classifier',\n",
              "                 LogisticRegression(penalty='none', solver='sag'))])"
            ]
          },
          "metadata": {},
          "execution_count": 67
        }
      ]
    },
    {
      "cell_type": "code",
      "source": [
        "pd.DataFrame(rand.cv_results_)[['mean_test_score', 'std_test_score', 'params']]"
      ],
      "metadata": {
        "colab": {
          "base_uri": "https://localhost:8080/",
          "height": 362
        },
        "id": "mrZS5IiwklpM",
        "outputId": "6fb0212e-d201-4e67-dcbe-5df13de62190"
      },
      "execution_count": 68,
      "outputs": [
        {
          "output_type": "execute_result",
          "data": {
            "text/html": [
              "\n",
              "  <div id=\"df-f0aca333-c8f6-46ed-97ab-7ef8bb971957\">\n",
              "    <div class=\"colab-df-container\">\n",
              "      <div>\n",
              "<style scoped>\n",
              "    .dataframe tbody tr th:only-of-type {\n",
              "        vertical-align: middle;\n",
              "    }\n",
              "\n",
              "    .dataframe tbody tr th {\n",
              "        vertical-align: top;\n",
              "    }\n",
              "\n",
              "    .dataframe thead th {\n",
              "        text-align: right;\n",
              "    }\n",
              "</style>\n",
              "<table border=\"1\" class=\"dataframe\">\n",
              "  <thead>\n",
              "    <tr style=\"text-align: right;\">\n",
              "      <th></th>\n",
              "      <th>mean_test_score</th>\n",
              "      <th>std_test_score</th>\n",
              "      <th>params</th>\n",
              "    </tr>\n",
              "  </thead>\n",
              "  <tbody>\n",
              "    <tr>\n",
              "      <th>0</th>\n",
              "      <td>NaN</td>\n",
              "      <td>NaN</td>\n",
              "      <td>{'classifier__solver': 'sag', 'classifier__pen...</td>\n",
              "    </tr>\n",
              "    <tr>\n",
              "      <th>1</th>\n",
              "      <td>0.913847</td>\n",
              "      <td>0.000385</td>\n",
              "      <td>{'classifier__solver': 'sag', 'classifier__pen...</td>\n",
              "    </tr>\n",
              "    <tr>\n",
              "      <th>2</th>\n",
              "      <td>NaN</td>\n",
              "      <td>NaN</td>\n",
              "      <td>{'classifier__solver': 'sag', 'classifier__pen...</td>\n",
              "    </tr>\n",
              "    <tr>\n",
              "      <th>3</th>\n",
              "      <td>NaN</td>\n",
              "      <td>NaN</td>\n",
              "      <td>{'classifier__solver': 'saga', 'classifier__pe...</td>\n",
              "    </tr>\n",
              "    <tr>\n",
              "      <th>4</th>\n",
              "      <td>0.907403</td>\n",
              "      <td>0.000758</td>\n",
              "      <td>{'classifier__n_estimators': 100, 'classifier_...</td>\n",
              "    </tr>\n",
              "    <tr>\n",
              "      <th>5</th>\n",
              "      <td>NaN</td>\n",
              "      <td>NaN</td>\n",
              "      <td>{'classifier__solver': 'liblinear', 'classifie...</td>\n",
              "    </tr>\n",
              "    <tr>\n",
              "      <th>6</th>\n",
              "      <td>NaN</td>\n",
              "      <td>NaN</td>\n",
              "      <td>{'classifier__solver': 'newton-cg', 'classifie...</td>\n",
              "    </tr>\n",
              "    <tr>\n",
              "      <th>7</th>\n",
              "      <td>0.913847</td>\n",
              "      <td>0.000385</td>\n",
              "      <td>{'classifier__solver': 'saga', 'classifier__pe...</td>\n",
              "    </tr>\n",
              "    <tr>\n",
              "      <th>8</th>\n",
              "      <td>0.913847</td>\n",
              "      <td>0.000385</td>\n",
              "      <td>{'classifier__solver': 'liblinear', 'classifie...</td>\n",
              "    </tr>\n",
              "    <tr>\n",
              "      <th>9</th>\n",
              "      <td>0.913847</td>\n",
              "      <td>0.000385</td>\n",
              "      <td>{'classifier__solver': 'saga', 'classifier__pe...</td>\n",
              "    </tr>\n",
              "  </tbody>\n",
              "</table>\n",
              "</div>\n",
              "      <button class=\"colab-df-convert\" onclick=\"convertToInteractive('df-f0aca333-c8f6-46ed-97ab-7ef8bb971957')\"\n",
              "              title=\"Convert this dataframe to an interactive table.\"\n",
              "              style=\"display:none;\">\n",
              "        \n",
              "  <svg xmlns=\"http://www.w3.org/2000/svg\" height=\"24px\"viewBox=\"0 0 24 24\"\n",
              "       width=\"24px\">\n",
              "    <path d=\"M0 0h24v24H0V0z\" fill=\"none\"/>\n",
              "    <path d=\"M18.56 5.44l.94 2.06.94-2.06 2.06-.94-2.06-.94-.94-2.06-.94 2.06-2.06.94zm-11 1L8.5 8.5l.94-2.06 2.06-.94-2.06-.94L8.5 2.5l-.94 2.06-2.06.94zm10 10l.94 2.06.94-2.06 2.06-.94-2.06-.94-.94-2.06-.94 2.06-2.06.94z\"/><path d=\"M17.41 7.96l-1.37-1.37c-.4-.4-.92-.59-1.43-.59-.52 0-1.04.2-1.43.59L10.3 9.45l-7.72 7.72c-.78.78-.78 2.05 0 2.83L4 21.41c.39.39.9.59 1.41.59.51 0 1.02-.2 1.41-.59l7.78-7.78 2.81-2.81c.8-.78.8-2.07 0-2.86zM5.41 20L4 18.59l7.72-7.72 1.47 1.35L5.41 20z\"/>\n",
              "  </svg>\n",
              "      </button>\n",
              "      \n",
              "  <style>\n",
              "    .colab-df-container {\n",
              "      display:flex;\n",
              "      flex-wrap:wrap;\n",
              "      gap: 12px;\n",
              "    }\n",
              "\n",
              "    .colab-df-convert {\n",
              "      background-color: #E8F0FE;\n",
              "      border: none;\n",
              "      border-radius: 50%;\n",
              "      cursor: pointer;\n",
              "      display: none;\n",
              "      fill: #1967D2;\n",
              "      height: 32px;\n",
              "      padding: 0 0 0 0;\n",
              "      width: 32px;\n",
              "    }\n",
              "\n",
              "    .colab-df-convert:hover {\n",
              "      background-color: #E2EBFA;\n",
              "      box-shadow: 0px 1px 2px rgba(60, 64, 67, 0.3), 0px 1px 3px 1px rgba(60, 64, 67, 0.15);\n",
              "      fill: #174EA6;\n",
              "    }\n",
              "\n",
              "    [theme=dark] .colab-df-convert {\n",
              "      background-color: #3B4455;\n",
              "      fill: #D2E3FC;\n",
              "    }\n",
              "\n",
              "    [theme=dark] .colab-df-convert:hover {\n",
              "      background-color: #434B5C;\n",
              "      box-shadow: 0px 1px 3px 1px rgba(0, 0, 0, 0.15);\n",
              "      filter: drop-shadow(0px 1px 2px rgba(0, 0, 0, 0.3));\n",
              "      fill: #FFFFFF;\n",
              "    }\n",
              "  </style>\n",
              "\n",
              "      <script>\n",
              "        const buttonEl =\n",
              "          document.querySelector('#df-f0aca333-c8f6-46ed-97ab-7ef8bb971957 button.colab-df-convert');\n",
              "        buttonEl.style.display =\n",
              "          google.colab.kernel.accessAllowed ? 'block' : 'none';\n",
              "\n",
              "        async function convertToInteractive(key) {\n",
              "          const element = document.querySelector('#df-f0aca333-c8f6-46ed-97ab-7ef8bb971957');\n",
              "          const dataTable =\n",
              "            await google.colab.kernel.invokeFunction('convertToInteractive',\n",
              "                                                     [key], {});\n",
              "          if (!dataTable) return;\n",
              "\n",
              "          const docLinkHtml = 'Like what you see? Visit the ' +\n",
              "            '<a target=\"_blank\" href=https://colab.research.google.com/notebooks/data_table.ipynb>data table notebook</a>'\n",
              "            + ' to learn more about interactive tables.';\n",
              "          element.innerHTML = '';\n",
              "          dataTable['output_type'] = 'display_data';\n",
              "          await google.colab.output.renderOutput(dataTable, element);\n",
              "          const docLink = document.createElement('div');\n",
              "          docLink.innerHTML = docLinkHtml;\n",
              "          element.appendChild(docLink);\n",
              "        }\n",
              "      </script>\n",
              "    </div>\n",
              "  </div>\n",
              "  "
            ],
            "text/plain": [
              "   mean_test_score  ...                                             params\n",
              "0              NaN  ...  {'classifier__solver': 'sag', 'classifier__pen...\n",
              "1         0.913847  ...  {'classifier__solver': 'sag', 'classifier__pen...\n",
              "2              NaN  ...  {'classifier__solver': 'sag', 'classifier__pen...\n",
              "3              NaN  ...  {'classifier__solver': 'saga', 'classifier__pe...\n",
              "4         0.907403  ...  {'classifier__n_estimators': 100, 'classifier_...\n",
              "5              NaN  ...  {'classifier__solver': 'liblinear', 'classifie...\n",
              "6              NaN  ...  {'classifier__solver': 'newton-cg', 'classifie...\n",
              "7         0.913847  ...  {'classifier__solver': 'saga', 'classifier__pe...\n",
              "8         0.913847  ...  {'classifier__solver': 'liblinear', 'classifie...\n",
              "9         0.913847  ...  {'classifier__solver': 'saga', 'classifier__pe...\n",
              "\n",
              "[10 rows x 3 columns]"
            ]
          },
          "metadata": {},
          "execution_count": 68
        }
      ]
    },
    {
      "cell_type": "code",
      "source": [
        "# examine the best model\n",
        "print(rand.best_score_)\n",
        "print(rand.best_params_)"
      ],
      "metadata": {
        "colab": {
          "base_uri": "https://localhost:8080/"
        },
        "id": "VDdmRd6Fmq42",
        "outputId": "0b8390f5-2ac4-4309-f5d4-67aaef8d3309"
      },
      "execution_count": 69,
      "outputs": [
        {
          "output_type": "stream",
          "name": "stdout",
          "text": [
            "0.9138468516588176\n",
            "{'classifier__solver': 'sag', 'classifier__penalty': 'none', 'classifier': LogisticRegression(penalty='none', solver='sag')}\n"
          ]
        }
      ]
    },
    {
      "cell_type": "code",
      "source": [
        "pca.n_components_"
      ],
      "metadata": {
        "colab": {
          "base_uri": "https://localhost:8080/"
        },
        "id": "bUHdpyYaf2C1",
        "outputId": "714270fb-3f8f-4549-d822-fcc39ce114f4"
      },
      "execution_count": 53,
      "outputs": [
        {
          "output_type": "execute_result",
          "data": {
            "text/plain": [
              "18"
            ]
          },
          "metadata": {},
          "execution_count": 53
        }
      ]
    },
    {
      "cell_type": "code",
      "source": [
        "lo_optimised = LogisticRegression(penalty='none', solver='sag')"
      ],
      "metadata": {
        "id": "WP0TBc2uf2l0"
      },
      "execution_count": 70,
      "outputs": []
    },
    {
      "cell_type": "code",
      "source": [
        "pipe_optimised = Pipeline([('preprocessing',ct),('standardscaler',sc),('pca',pca),('classifier',lo_optimised)])"
      ],
      "metadata": {
        "id": "Hi6SdcT0iB5L"
      },
      "execution_count": 71,
      "outputs": []
    },
    {
      "cell_type": "code",
      "source": [
        "# Display Pipeline\n",
        "from sklearn import set_config\n",
        "set_config(display='diagram')\n",
        "#fit data\n",
        "pipe_optimised.fit(X_train,y_train)"
      ],
      "metadata": {
        "colab": {
          "base_uri": "https://localhost:8080/",
          "height": 265
        },
        "id": "DCCvH6fdi9Tw",
        "outputId": "1be9ed33-bc62-44fd-a464-ee0692af1399"
      },
      "execution_count": 72,
      "outputs": [
        {
          "output_type": "execute_result",
          "data": {
            "text/html": [
              "<style>#sk-567bcac2-f179-483b-902f-4d4806399040 {color: black;background-color: white;}#sk-567bcac2-f179-483b-902f-4d4806399040 pre{padding: 0;}#sk-567bcac2-f179-483b-902f-4d4806399040 div.sk-toggleable {background-color: white;}#sk-567bcac2-f179-483b-902f-4d4806399040 label.sk-toggleable__label {cursor: pointer;display: block;width: 100%;margin-bottom: 0;padding: 0.3em;box-sizing: border-box;text-align: center;}#sk-567bcac2-f179-483b-902f-4d4806399040 label.sk-toggleable__label-arrow:before {content: \"▸\";float: left;margin-right: 0.25em;color: #696969;}#sk-567bcac2-f179-483b-902f-4d4806399040 label.sk-toggleable__label-arrow:hover:before {color: black;}#sk-567bcac2-f179-483b-902f-4d4806399040 div.sk-estimator:hover label.sk-toggleable__label-arrow:before {color: black;}#sk-567bcac2-f179-483b-902f-4d4806399040 div.sk-toggleable__content {max-height: 0;max-width: 0;overflow: hidden;text-align: left;background-color: #f0f8ff;}#sk-567bcac2-f179-483b-902f-4d4806399040 div.sk-toggleable__content pre {margin: 0.2em;color: black;border-radius: 0.25em;background-color: #f0f8ff;}#sk-567bcac2-f179-483b-902f-4d4806399040 input.sk-toggleable__control:checked~div.sk-toggleable__content {max-height: 200px;max-width: 100%;overflow: auto;}#sk-567bcac2-f179-483b-902f-4d4806399040 input.sk-toggleable__control:checked~label.sk-toggleable__label-arrow:before {content: \"▾\";}#sk-567bcac2-f179-483b-902f-4d4806399040 div.sk-estimator input.sk-toggleable__control:checked~label.sk-toggleable__label {background-color: #d4ebff;}#sk-567bcac2-f179-483b-902f-4d4806399040 div.sk-label input.sk-toggleable__control:checked~label.sk-toggleable__label {background-color: #d4ebff;}#sk-567bcac2-f179-483b-902f-4d4806399040 input.sk-hidden--visually {border: 0;clip: rect(1px 1px 1px 1px);clip: rect(1px, 1px, 1px, 1px);height: 1px;margin: -1px;overflow: hidden;padding: 0;position: absolute;width: 1px;}#sk-567bcac2-f179-483b-902f-4d4806399040 div.sk-estimator {font-family: monospace;background-color: #f0f8ff;border: 1px dotted black;border-radius: 0.25em;box-sizing: border-box;margin-bottom: 0.5em;}#sk-567bcac2-f179-483b-902f-4d4806399040 div.sk-estimator:hover {background-color: #d4ebff;}#sk-567bcac2-f179-483b-902f-4d4806399040 div.sk-parallel-item::after {content: \"\";width: 100%;border-bottom: 1px solid gray;flex-grow: 1;}#sk-567bcac2-f179-483b-902f-4d4806399040 div.sk-label:hover label.sk-toggleable__label {background-color: #d4ebff;}#sk-567bcac2-f179-483b-902f-4d4806399040 div.sk-serial::before {content: \"\";position: absolute;border-left: 1px solid gray;box-sizing: border-box;top: 2em;bottom: 0;left: 50%;}#sk-567bcac2-f179-483b-902f-4d4806399040 div.sk-serial {display: flex;flex-direction: column;align-items: center;background-color: white;padding-right: 0.2em;padding-left: 0.2em;}#sk-567bcac2-f179-483b-902f-4d4806399040 div.sk-item {z-index: 1;}#sk-567bcac2-f179-483b-902f-4d4806399040 div.sk-parallel {display: flex;align-items: stretch;justify-content: center;background-color: white;}#sk-567bcac2-f179-483b-902f-4d4806399040 div.sk-parallel::before {content: \"\";position: absolute;border-left: 1px solid gray;box-sizing: border-box;top: 2em;bottom: 0;left: 50%;}#sk-567bcac2-f179-483b-902f-4d4806399040 div.sk-parallel-item {display: flex;flex-direction: column;position: relative;background-color: white;}#sk-567bcac2-f179-483b-902f-4d4806399040 div.sk-parallel-item:first-child::after {align-self: flex-end;width: 50%;}#sk-567bcac2-f179-483b-902f-4d4806399040 div.sk-parallel-item:last-child::after {align-self: flex-start;width: 50%;}#sk-567bcac2-f179-483b-902f-4d4806399040 div.sk-parallel-item:only-child::after {width: 0;}#sk-567bcac2-f179-483b-902f-4d4806399040 div.sk-dashed-wrapped {border: 1px dashed gray;margin: 0 0.4em 0.5em 0.4em;box-sizing: border-box;padding-bottom: 0.4em;background-color: white;position: relative;}#sk-567bcac2-f179-483b-902f-4d4806399040 div.sk-label label {font-family: monospace;font-weight: bold;background-color: white;display: inline-block;line-height: 1.2em;}#sk-567bcac2-f179-483b-902f-4d4806399040 div.sk-label-container {position: relative;z-index: 2;text-align: center;}#sk-567bcac2-f179-483b-902f-4d4806399040 div.sk-container {/* jupyter's `normalize.less` sets `[hidden] { display: none; }` but bootstrap.min.css set `[hidden] { display: none !important; }` so we also need the `!important` here to be able to override the default hidden behavior on the sphinx rendered scikit-learn.org. See: https://github.com/scikit-learn/scikit-learn/issues/21755 */display: inline-block !important;position: relative;}#sk-567bcac2-f179-483b-902f-4d4806399040 div.sk-text-repr-fallback {display: none;}</style><div id=\"sk-567bcac2-f179-483b-902f-4d4806399040\" class=\"sk-top-container\"><div class=\"sk-text-repr-fallback\"><pre>Pipeline(steps=[(&#x27;preprocessing&#x27;,\n",
              "                 ColumnTransformer(remainder=&#x27;passthrough&#x27;,\n",
              "                                   transformers=[(&#x27;onehotencoder&#x27;,\n",
              "                                                  OneHotEncoder(),\n",
              "                                                  [&#x27;Sex&#x27;, &#x27;Race&#x27;]),\n",
              "                                                 (&#x27;ordinalencoder-1&#x27;,\n",
              "                                                  OrdinalEncoder(categories=[[&#x27;18-24&#x27;,\n",
              "                                                                              &#x27;25-29&#x27;,\n",
              "                                                                              &#x27;30-34&#x27;,\n",
              "                                                                              &#x27;35-39&#x27;,\n",
              "                                                                              &#x27;40-44&#x27;,\n",
              "                                                                              &#x27;45-49&#x27;,\n",
              "                                                                              &#x27;50-54&#x27;,\n",
              "                                                                              &#x27;55-59&#x27;,\n",
              "                                                                              &#x27;60-64&#x27;,\n",
              "                                                                              &#x27;65-69&#x27;,\n",
              "                                                                              &#x27;70-74&#x27;,\n",
              "                                                                              &#x27;75-79&#x27;,\n",
              "                                                                              &#x27;80 &#x27;\n",
              "                                                                              &#x27;or &#x27;\n",
              "                                                                              &#x27;older&#x27;],\n",
              "                                                                             [&#x27;Poor&#x27;,\n",
              "                                                                              &#x27;Fair&#x27;,\n",
              "                                                                              &#x27;Good&#x27;,\n",
              "                                                                              &#x27;Very &#x27;\n",
              "                                                                              &#x27;good&#x27;,\n",
              "                                                                              &#x27;Excellent&#x27;]]),\n",
              "                                                  [&#x27;AgeCategory&#x27;, &#x27;GenHealth&#x27;]),\n",
              "                                                 (&#x27;ordinalencoder-2&#x27;,\n",
              "                                                  OrdinalEncoder(),\n",
              "                                                  [&#x27;Smoking&#x27;, &#x27;AlcoholDrinking&#x27;,\n",
              "                                                   &#x27;Stroke&#x27;, &#x27;DiffWalking&#x27;,\n",
              "                                                   &#x27;Diabetic&#x27;,\n",
              "                                                   &#x27;PhysicalActivity&#x27;, &#x27;Asthma&#x27;,\n",
              "                                                   &#x27;KidneyDisease&#x27;,\n",
              "                                                   &#x27;SkinCancer&#x27;])])),\n",
              "                (&#x27;standardscaler&#x27;, StandardScaler()),\n",
              "                (&#x27;pca&#x27;, PCA(n_components=0.9)),\n",
              "                (&#x27;classifier&#x27;,\n",
              "                 LogisticRegression(penalty=&#x27;none&#x27;, solver=&#x27;sag&#x27;))])</pre><b>Please rerun this cell to show the HTML repr or trust the notebook.</b></div><div class=\"sk-container\" hidden><div class=\"sk-item sk-dashed-wrapped\"><div class=\"sk-label-container\"><div class=\"sk-label sk-toggleable\"><input class=\"sk-toggleable__control sk-hidden--visually\" id=\"905de99a-81a0-4ed9-9e43-ec6e6665a112\" type=\"checkbox\" ><label for=\"905de99a-81a0-4ed9-9e43-ec6e6665a112\" class=\"sk-toggleable__label sk-toggleable__label-arrow\">Pipeline</label><div class=\"sk-toggleable__content\"><pre>Pipeline(steps=[(&#x27;preprocessing&#x27;,\n",
              "                 ColumnTransformer(remainder=&#x27;passthrough&#x27;,\n",
              "                                   transformers=[(&#x27;onehotencoder&#x27;,\n",
              "                                                  OneHotEncoder(),\n",
              "                                                  [&#x27;Sex&#x27;, &#x27;Race&#x27;]),\n",
              "                                                 (&#x27;ordinalencoder-1&#x27;,\n",
              "                                                  OrdinalEncoder(categories=[[&#x27;18-24&#x27;,\n",
              "                                                                              &#x27;25-29&#x27;,\n",
              "                                                                              &#x27;30-34&#x27;,\n",
              "                                                                              &#x27;35-39&#x27;,\n",
              "                                                                              &#x27;40-44&#x27;,\n",
              "                                                                              &#x27;45-49&#x27;,\n",
              "                                                                              &#x27;50-54&#x27;,\n",
              "                                                                              &#x27;55-59&#x27;,\n",
              "                                                                              &#x27;60-64&#x27;,\n",
              "                                                                              &#x27;65-69&#x27;,\n",
              "                                                                              &#x27;70-74&#x27;,\n",
              "                                                                              &#x27;75-79&#x27;,\n",
              "                                                                              &#x27;80 &#x27;\n",
              "                                                                              &#x27;or &#x27;\n",
              "                                                                              &#x27;older&#x27;],\n",
              "                                                                             [&#x27;Poor&#x27;,\n",
              "                                                                              &#x27;Fair&#x27;,\n",
              "                                                                              &#x27;Good&#x27;,\n",
              "                                                                              &#x27;Very &#x27;\n",
              "                                                                              &#x27;good&#x27;,\n",
              "                                                                              &#x27;Excellent&#x27;]]),\n",
              "                                                  [&#x27;AgeCategory&#x27;, &#x27;GenHealth&#x27;]),\n",
              "                                                 (&#x27;ordinalencoder-2&#x27;,\n",
              "                                                  OrdinalEncoder(),\n",
              "                                                  [&#x27;Smoking&#x27;, &#x27;AlcoholDrinking&#x27;,\n",
              "                                                   &#x27;Stroke&#x27;, &#x27;DiffWalking&#x27;,\n",
              "                                                   &#x27;Diabetic&#x27;,\n",
              "                                                   &#x27;PhysicalActivity&#x27;, &#x27;Asthma&#x27;,\n",
              "                                                   &#x27;KidneyDisease&#x27;,\n",
              "                                                   &#x27;SkinCancer&#x27;])])),\n",
              "                (&#x27;standardscaler&#x27;, StandardScaler()),\n",
              "                (&#x27;pca&#x27;, PCA(n_components=0.9)),\n",
              "                (&#x27;classifier&#x27;,\n",
              "                 LogisticRegression(penalty=&#x27;none&#x27;, solver=&#x27;sag&#x27;))])</pre></div></div></div><div class=\"sk-serial\"><div class=\"sk-item sk-dashed-wrapped\"><div class=\"sk-label-container\"><div class=\"sk-label sk-toggleable\"><input class=\"sk-toggleable__control sk-hidden--visually\" id=\"9f0c4d61-3962-4936-8ec9-c7ecba1aed9e\" type=\"checkbox\" ><label for=\"9f0c4d61-3962-4936-8ec9-c7ecba1aed9e\" class=\"sk-toggleable__label sk-toggleable__label-arrow\">preprocessing: ColumnTransformer</label><div class=\"sk-toggleable__content\"><pre>ColumnTransformer(remainder=&#x27;passthrough&#x27;,\n",
              "                  transformers=[(&#x27;onehotencoder&#x27;, OneHotEncoder(),\n",
              "                                 [&#x27;Sex&#x27;, &#x27;Race&#x27;]),\n",
              "                                (&#x27;ordinalencoder-1&#x27;,\n",
              "                                 OrdinalEncoder(categories=[[&#x27;18-24&#x27;, &#x27;25-29&#x27;,\n",
              "                                                             &#x27;30-34&#x27;, &#x27;35-39&#x27;,\n",
              "                                                             &#x27;40-44&#x27;, &#x27;45-49&#x27;,\n",
              "                                                             &#x27;50-54&#x27;, &#x27;55-59&#x27;,\n",
              "                                                             &#x27;60-64&#x27;, &#x27;65-69&#x27;,\n",
              "                                                             &#x27;70-74&#x27;, &#x27;75-79&#x27;,\n",
              "                                                             &#x27;80 or older&#x27;],\n",
              "                                                            [&#x27;Poor&#x27;, &#x27;Fair&#x27;,\n",
              "                                                             &#x27;Good&#x27;,\n",
              "                                                             &#x27;Very good&#x27;,\n",
              "                                                             &#x27;Excellent&#x27;]]),\n",
              "                                 [&#x27;AgeCategory&#x27;, &#x27;GenHealth&#x27;]),\n",
              "                                (&#x27;ordinalencoder-2&#x27;, OrdinalEncoder(),\n",
              "                                 [&#x27;Smoking&#x27;, &#x27;AlcoholDrinking&#x27;, &#x27;Stroke&#x27;,\n",
              "                                  &#x27;DiffWalking&#x27;, &#x27;Diabetic&#x27;, &#x27;PhysicalActivity&#x27;,\n",
              "                                  &#x27;Asthma&#x27;, &#x27;KidneyDisease&#x27;, &#x27;SkinCancer&#x27;])])</pre></div></div></div><div class=\"sk-parallel\"><div class=\"sk-parallel-item\"><div class=\"sk-item\"><div class=\"sk-label-container\"><div class=\"sk-label sk-toggleable\"><input class=\"sk-toggleable__control sk-hidden--visually\" id=\"9a354fdd-8aa8-4165-a6c6-c7906c139d47\" type=\"checkbox\" ><label for=\"9a354fdd-8aa8-4165-a6c6-c7906c139d47\" class=\"sk-toggleable__label sk-toggleable__label-arrow\">onehotencoder</label><div class=\"sk-toggleable__content\"><pre>[&#x27;Sex&#x27;, &#x27;Race&#x27;]</pre></div></div></div><div class=\"sk-serial\"><div class=\"sk-item\"><div class=\"sk-estimator sk-toggleable\"><input class=\"sk-toggleable__control sk-hidden--visually\" id=\"0b516957-6b97-428f-b03e-ecfc94160817\" type=\"checkbox\" ><label for=\"0b516957-6b97-428f-b03e-ecfc94160817\" class=\"sk-toggleable__label sk-toggleable__label-arrow\">OneHotEncoder</label><div class=\"sk-toggleable__content\"><pre>OneHotEncoder()</pre></div></div></div></div></div></div><div class=\"sk-parallel-item\"><div class=\"sk-item\"><div class=\"sk-label-container\"><div class=\"sk-label sk-toggleable\"><input class=\"sk-toggleable__control sk-hidden--visually\" id=\"27ca39f4-976d-4b12-87e8-63fa130d31a5\" type=\"checkbox\" ><label for=\"27ca39f4-976d-4b12-87e8-63fa130d31a5\" class=\"sk-toggleable__label sk-toggleable__label-arrow\">ordinalencoder-1</label><div class=\"sk-toggleable__content\"><pre>[&#x27;AgeCategory&#x27;, &#x27;GenHealth&#x27;]</pre></div></div></div><div class=\"sk-serial\"><div class=\"sk-item\"><div class=\"sk-estimator sk-toggleable\"><input class=\"sk-toggleable__control sk-hidden--visually\" id=\"92409840-9b54-49fc-b20c-348ecb0d7c6d\" type=\"checkbox\" ><label for=\"92409840-9b54-49fc-b20c-348ecb0d7c6d\" class=\"sk-toggleable__label sk-toggleable__label-arrow\">OrdinalEncoder</label><div class=\"sk-toggleable__content\"><pre>OrdinalEncoder(categories=[[&#x27;18-24&#x27;, &#x27;25-29&#x27;, &#x27;30-34&#x27;, &#x27;35-39&#x27;, &#x27;40-44&#x27;,\n",
              "                            &#x27;45-49&#x27;, &#x27;50-54&#x27;, &#x27;55-59&#x27;, &#x27;60-64&#x27;, &#x27;65-69&#x27;,\n",
              "                            &#x27;70-74&#x27;, &#x27;75-79&#x27;, &#x27;80 or older&#x27;],\n",
              "                           [&#x27;Poor&#x27;, &#x27;Fair&#x27;, &#x27;Good&#x27;, &#x27;Very good&#x27;, &#x27;Excellent&#x27;]])</pre></div></div></div></div></div></div><div class=\"sk-parallel-item\"><div class=\"sk-item\"><div class=\"sk-label-container\"><div class=\"sk-label sk-toggleable\"><input class=\"sk-toggleable__control sk-hidden--visually\" id=\"a634687f-a970-4abe-94e7-ff7079d24cf7\" type=\"checkbox\" ><label for=\"a634687f-a970-4abe-94e7-ff7079d24cf7\" class=\"sk-toggleable__label sk-toggleable__label-arrow\">ordinalencoder-2</label><div class=\"sk-toggleable__content\"><pre>[&#x27;Smoking&#x27;, &#x27;AlcoholDrinking&#x27;, &#x27;Stroke&#x27;, &#x27;DiffWalking&#x27;, &#x27;Diabetic&#x27;, &#x27;PhysicalActivity&#x27;, &#x27;Asthma&#x27;, &#x27;KidneyDisease&#x27;, &#x27;SkinCancer&#x27;]</pre></div></div></div><div class=\"sk-serial\"><div class=\"sk-item\"><div class=\"sk-estimator sk-toggleable\"><input class=\"sk-toggleable__control sk-hidden--visually\" id=\"75e324d2-2b5e-4b59-9fa6-58347b1634b3\" type=\"checkbox\" ><label for=\"75e324d2-2b5e-4b59-9fa6-58347b1634b3\" class=\"sk-toggleable__label sk-toggleable__label-arrow\">OrdinalEncoder</label><div class=\"sk-toggleable__content\"><pre>OrdinalEncoder()</pre></div></div></div></div></div></div><div class=\"sk-parallel-item\"><div class=\"sk-item\"><div class=\"sk-label-container\"><div class=\"sk-label sk-toggleable\"><input class=\"sk-toggleable__control sk-hidden--visually\" id=\"405c4e75-d611-43c0-9804-b2267b8acc94\" type=\"checkbox\" ><label for=\"405c4e75-d611-43c0-9804-b2267b8acc94\" class=\"sk-toggleable__label sk-toggleable__label-arrow\">remainder</label><div class=\"sk-toggleable__content\"><pre>[&#x27;BMI&#x27;, &#x27;PhysicalHealth&#x27;, &#x27;MentalHealth&#x27;, &#x27;SleepTime&#x27;]</pre></div></div></div><div class=\"sk-serial\"><div class=\"sk-item\"><div class=\"sk-estimator sk-toggleable\"><input class=\"sk-toggleable__control sk-hidden--visually\" id=\"00b06dbf-8b33-4f95-8374-ed46fe30389b\" type=\"checkbox\" ><label for=\"00b06dbf-8b33-4f95-8374-ed46fe30389b\" class=\"sk-toggleable__label sk-toggleable__label-arrow\">passthrough</label><div class=\"sk-toggleable__content\"><pre>passthrough</pre></div></div></div></div></div></div></div></div><div class=\"sk-item\"><div class=\"sk-estimator sk-toggleable\"><input class=\"sk-toggleable__control sk-hidden--visually\" id=\"299ff0b0-6c69-4b2b-ada6-cda02ac7f342\" type=\"checkbox\" ><label for=\"299ff0b0-6c69-4b2b-ada6-cda02ac7f342\" class=\"sk-toggleable__label sk-toggleable__label-arrow\">StandardScaler</label><div class=\"sk-toggleable__content\"><pre>StandardScaler()</pre></div></div></div><div class=\"sk-item\"><div class=\"sk-estimator sk-toggleable\"><input class=\"sk-toggleable__control sk-hidden--visually\" id=\"f9889a3f-0f1a-4321-8b89-9ec6af8c0b09\" type=\"checkbox\" ><label for=\"f9889a3f-0f1a-4321-8b89-9ec6af8c0b09\" class=\"sk-toggleable__label sk-toggleable__label-arrow\">PCA</label><div class=\"sk-toggleable__content\"><pre>PCA(n_components=0.9)</pre></div></div></div><div class=\"sk-item\"><div class=\"sk-estimator sk-toggleable\"><input class=\"sk-toggleable__control sk-hidden--visually\" id=\"1e3e2c46-639c-465d-b960-a2bb7f5befa1\" type=\"checkbox\" ><label for=\"1e3e2c46-639c-465d-b960-a2bb7f5befa1\" class=\"sk-toggleable__label sk-toggleable__label-arrow\">LogisticRegression</label><div class=\"sk-toggleable__content\"><pre>LogisticRegression(penalty=&#x27;none&#x27;, solver=&#x27;sag&#x27;)</pre></div></div></div></div></div></div></div>"
            ],
            "text/plain": [
              "Pipeline(steps=[('preprocessing',\n",
              "                 ColumnTransformer(remainder='passthrough',\n",
              "                                   transformers=[('onehotencoder',\n",
              "                                                  OneHotEncoder(),\n",
              "                                                  ['Sex', 'Race']),\n",
              "                                                 ('ordinalencoder-1',\n",
              "                                                  OrdinalEncoder(categories=[['18-24',\n",
              "                                                                              '25-29',\n",
              "                                                                              '30-34',\n",
              "                                                                              '35-39',\n",
              "                                                                              '40-44',\n",
              "                                                                              '45-49',\n",
              "                                                                              '50-54',\n",
              "                                                                              '55-59',\n",
              "                                                                              '60-64',\n",
              "                                                                              '65-69',\n",
              "                                                                              '70-74',\n",
              "                                                                              '75-79',\n",
              "                                                                              '80 '\n",
              "                                                                              'or '\n",
              "                                                                              'older'],\n",
              "                                                                             ['Poor',\n",
              "                                                                              'Fair',\n",
              "                                                                              'Good',\n",
              "                                                                              'Very '\n",
              "                                                                              'good',\n",
              "                                                                              'Excellent']]),\n",
              "                                                  ['AgeCategory', 'GenHealth']),\n",
              "                                                 ('ordinalencoder-2',\n",
              "                                                  OrdinalEncoder(),\n",
              "                                                  ['Smoking', 'AlcoholDrinking',\n",
              "                                                   'Stroke', 'DiffWalking',\n",
              "                                                   'Diabetic',\n",
              "                                                   'PhysicalActivity', 'Asthma',\n",
              "                                                   'KidneyDisease',\n",
              "                                                   'SkinCancer'])])),\n",
              "                ('standardscaler', StandardScaler()),\n",
              "                ('pca', PCA(n_components=0.9)),\n",
              "                ('classifier',\n",
              "                 LogisticRegression(penalty='none', solver='sag'))])"
            ]
          },
          "metadata": {},
          "execution_count": 72
        }
      ]
    },
    {
      "cell_type": "code",
      "source": [
        "cross_val_score(pipe_optimised,X,y,cv=5, scoring='accuracy').mean()"
      ],
      "metadata": {
        "colab": {
          "base_uri": "https://localhost:8080/"
        },
        "id": "rzwOqXskjAqH",
        "outputId": "dc47913b-41e7-4997-d5a6-046a3ac69ad3"
      },
      "execution_count": 73,
      "outputs": [
        {
          "output_type": "execute_result",
          "data": {
            "text/plain": [
              "0.915155021185447"
            ]
          },
          "metadata": {},
          "execution_count": 73
        }
      ]
    },
    {
      "cell_type": "code",
      "source": [
        ""
      ],
      "metadata": {
        "id": "SPIfzFVgjM14"
      },
      "execution_count": null,
      "outputs": []
    }
  ]
}